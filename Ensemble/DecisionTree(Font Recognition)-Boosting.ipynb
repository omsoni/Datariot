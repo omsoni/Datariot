{
 "cells": [
  {
   "cell_type": "code",
   "execution_count": 1,
   "metadata": {},
   "outputs": [
    {
     "name": "stdout",
     "output_type": "stream",
     "text": [
      "Populating the interactive namespace from numpy and matplotlib\n"
     ]
    }
   ],
   "source": [
    "import warnings\n",
    "warnings.filterwarnings(\"ignore\")\n",
    "%pylab inline\n",
    "import pandas as pd"
   ]
  },
  {
   "cell_type": "code",
   "execution_count": 2,
   "metadata": {},
   "outputs": [
    {
     "name": "stdout",
     "output_type": "stream",
     "text": [
      "['F0', 'F1', 'F2', 'F3', 'F4', 'F5', 'F6', 'F7', 'F8', 'F9', 'F10', 'F11', 'F12', 'F13']\n"
     ]
    }
   ],
   "source": [
    "x_cols = []\n",
    "for i in range(14):\n",
    "    x_cols.append('F' + str(i))\n",
    "print(x_cols)"
   ]
  },
  {
   "cell_type": "code",
   "execution_count": 3,
   "metadata": {},
   "outputs": [
    {
     "name": "stdout",
     "output_type": "stream",
     "text": [
      "['A', 'B', 'C', 'D', 'E', 'F', 'G', 'H', 'I', 'J', 'K', 'L', 'M', 'N', 'O', 'P', 'Q', 'R', 'S', 'T', 'U', 'V', 'W', 'X', 'Y', 'Z']\n"
     ]
    }
   ],
   "source": [
    "import string\n",
    "y_cols = list(string.ascii_uppercase)\n",
    "print(y_cols)"
   ]
  },
  {
   "cell_type": "code",
   "execution_count": 4,
   "metadata": {},
   "outputs": [],
   "source": [
    "x_train = pd.read_csv(\"MultiFontCharInput.csv\", names=x_cols, header=None)\n",
    "x_test = pd.read_csv(\"MultiFontCharInputTestData.csv\", names=x_cols, header=None)"
   ]
  },
  {
   "cell_type": "code",
   "execution_count": 5,
   "metadata": {},
   "outputs": [],
   "source": [
    "y_train = pd.read_csv(\"MultiFontCharOutput.csv\", names=y_cols, header=None)\n",
    "y_test = pd.read_csv(\"MultiFontCharOutputTestData.csv\", names=y_cols, header=None)\n",
    "y_cattr = y_train.apply(lambda x: x.idxmax(), axis = 1)\n",
    "y_catte = y_test.apply(lambda x: x.idxmax(), axis = 1)"
   ]
  },
  {
   "cell_type": "code",
   "execution_count": 6,
   "metadata": {},
   "outputs": [],
   "source": [
    "from sklearn.ensemble import AdaBoostClassifier \n",
    "from sklearn.model_selection import cross_val_score, KFold"
   ]
  },
  {
   "cell_type": "code",
   "execution_count": 7,
   "metadata": {},
   "outputs": [],
   "source": [
    "x_data = x_train.append(x_test, ignore_index=True)\n",
    "y_data = y_train.append(y_test, ignore_index=True)\n",
    "y_cat = y_data.apply(lambda x: x.idxmax(), axis = 1)"
   ]
  },
  {
   "cell_type": "code",
   "execution_count": 13,
   "metadata": {},
   "outputs": [],
   "source": [
    "clf = AdaBoostClassifier(n_estimators=100)\n",
    "clf = clf.fit(x_train,y_cattr)"
   ]
  },
  {
   "cell_type": "code",
   "execution_count": 14,
   "metadata": {},
   "outputs": [
    {
     "name": "stdout",
     "output_type": "stream",
     "text": [
      "Accuracy:0.192 \n",
      "\n",
      "Classification report\n",
      "             precision    recall  f1-score   support\n",
      "\n",
      "          A       0.00      0.00      0.00         3\n",
      "          B       0.07      1.00      0.14         3\n",
      "          C       0.00      0.00      0.00         3\n",
      "          D       0.00      0.00      0.00         3\n",
      "          E       1.00      1.00      1.00         3\n",
      "          F       0.00      0.00      0.00         3\n",
      "          G       0.67      0.67      0.67         3\n",
      "          H       0.00      0.00      0.00         3\n",
      "          I       0.11      1.00      0.20         3\n",
      "          J       0.00      0.00      0.00         3\n",
      "          K       0.00      0.00      0.00         3\n",
      "          L       0.00      0.00      0.00         3\n",
      "          M       0.00      0.00      0.00         3\n",
      "          N       0.00      0.00      0.00         3\n",
      "          O       0.00      0.00      0.00         3\n",
      "          P       0.00      0.00      0.00         3\n",
      "          Q       0.50      0.33      0.40         3\n",
      "          R       0.00      0.00      0.00         3\n",
      "          S       0.00      0.00      0.00         3\n",
      "          T       0.00      0.00      0.00         3\n",
      "          U       0.00      0.00      0.00         3\n",
      "          V       0.00      0.00      0.00         3\n",
      "          W       0.00      0.00      0.00         3\n",
      "          X       1.00      1.00      1.00         3\n",
      "          Y       0.00      0.00      0.00         3\n",
      "          Z       0.00      0.00      0.00         3\n",
      "\n",
      "avg / total       0.13      0.19      0.13        78\n",
      " \n",
      "\n"
     ]
    }
   ],
   "source": [
    "from sklearn import metrics\n",
    "def measure_performance(X,y,clf, show_accuracy=True, show_classification_report=True, show_confusion_matrix=True):\n",
    "    y_pred=clf.predict(X)   \n",
    "    if show_accuracy:\n",
    "        print (\"Accuracy:{0:.3f}\".format(metrics.accuracy_score(y,y_pred)),\"\\n\")\n",
    "\n",
    "    if show_classification_report:\n",
    "        print (\"Classification report\")\n",
    "        print (metrics.classification_report(y,y_pred),\"\\n\")\n",
    "        \n",
    "    if show_confusion_matrix:\n",
    "        print (\"Confusion matrix\")\n",
    "        print (metrics.confusion_matrix(y,y_pred),\"\\n\")\n",
    "        \n",
    "measure_performance(x_test,y_catte,clf, show_classification_report=True, show_confusion_matrix=False)"
   ]
  },
  {
   "cell_type": "code",
   "execution_count": 23,
   "metadata": {},
   "outputs": [],
   "source": [
    "from sklearn.model_selection import train_test_split\n",
    "x_tr, x_te, y_tr, y_te = train_test_split(x_data, y_cat, test_size=0.10, random_state=33)"
   ]
  },
  {
   "cell_type": "code",
   "execution_count": 24,
   "metadata": {},
   "outputs": [
    {
     "name": "stdout",
     "output_type": "stream",
     "text": [
      "Accuracy:0.250 \n",
      "\n",
      "Classification report\n",
      "             precision    recall  f1-score   support\n",
      "\n",
      "          A       0.00      0.00      0.00         0\n",
      "          C       0.00      0.00      0.00         1\n",
      "          E       1.00      1.00      1.00         2\n",
      "          F       0.00      0.00      0.00         1\n",
      "          I       0.00      0.00      0.00         1\n",
      "          J       0.00      0.00      0.00         3\n",
      "          K       0.00      0.00      0.00         0\n",
      "          L       0.00      0.00      0.00         1\n",
      "          M       0.00      0.00      0.00         1\n",
      "          V       0.00      0.00      0.00         2\n",
      "          X       0.00      0.00      0.00         0\n",
      "          Y       0.00      0.00      0.00         2\n",
      "          Z       1.00      1.00      1.00         2\n",
      "\n",
      "avg / total       0.25      0.25      0.25        16\n",
      " \n",
      "\n"
     ]
    }
   ],
   "source": [
    "clf = clf.fit(x_tr,y_tr)\n",
    "measure_performance(x_te,y_te,clf, show_classification_report=True, show_confusion_matrix=False)"
   ]
  },
  {
   "cell_type": "code",
   "execution_count": 10,
   "metadata": {},
   "outputs": [
    {
     "data": {
      "text/plain": [
       "0.05"
      ]
     },
     "execution_count": 10,
     "metadata": {},
     "output_type": "execute_result"
    }
   ],
   "source": [
    "kfold = KFold(n_splits=10, random_state=seed)\n",
    "scores = cross_val_score(clf, x_data, y_cat, cv=kfold)\n",
    "scores.mean()  "
   ]
  },
  {
   "cell_type": "code",
   "execution_count": null,
   "metadata": {},
   "outputs": [],
   "source": [
    "from sklearn.ensemble import GradientBoostingClassifier"
   ]
  },
  {
   "cell_type": "code",
   "execution_count": null,
   "metadata": {},
   "outputs": [],
   "source": [
    "clf = GradientBoostingClassifier(n_estimators=100, learning_rate=1.0, max_depth=1)\n",
    "clf.fit(X_train, y_train)"
   ]
  }
 ],
 "metadata": {
  "kernelspec": {
   "display_name": "Python 3",
   "language": "python",
   "name": "python3"
  },
  "language_info": {
   "codemirror_mode": {
    "name": "ipython",
    "version": 3
   },
   "file_extension": ".py",
   "mimetype": "text/x-python",
   "name": "python",
   "nbconvert_exporter": "python",
   "pygments_lexer": "ipython3",
   "version": "3.6.4"
  }
 },
 "nbformat": 4,
 "nbformat_minor": 2
}
