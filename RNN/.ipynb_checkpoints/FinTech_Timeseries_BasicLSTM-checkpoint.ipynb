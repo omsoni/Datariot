{
 "cells": [
  {
   "cell_type": "markdown",
   "metadata": {},
   "source": [
    "# RNN OPEC Predictions"
   ]
  },
  {
   "cell_type": "code",
   "execution_count": 33,
   "metadata": {},
   "outputs": [],
   "source": [
    "#Import Libraries\n",
    "import tensorflow as tf\n",
    "import pandas as pd\n",
    "import numpy as np\n",
    "import os\n",
    "import matplotlib\n",
    "import matplotlib.pyplot as plt\n",
    "import random\n",
    "%matplotlib inline\n",
    "import tensorflow as tf\n",
    "import shutil\n",
    "import tensorflow.contrib.learn as tflearn\n",
    "import tensorflow.contrib.layers as tflayers\n",
    "from tensorflow.contrib.learn.python.learn import learn_runner\n",
    "import tensorflow.contrib.metrics as metrics\n",
    "import tensorflow.contrib.rnn as rnn\n",
    "import quandl"
   ]
  },
  {
   "cell_type": "code",
   "execution_count": 34,
   "metadata": {},
   "outputs": [],
   "source": [
    "quandl.ApiConfig.api_key = \"EodKRXnzq6S5xDQy1ZBQ\""
   ]
  },
  {
   "cell_type": "code",
   "execution_count": 35,
   "metadata": {
    "scrolled": true
   },
   "outputs": [
    {
     "name": "stdout",
     "output_type": "stream",
     "text": [
      "Total Data = 3939 days\n"
     ]
    },
    {
     "data": {
      "image/png": "[encoded data removed]",
      "text/plain": [
       "<Figure size 432x288 with 1 Axes>"
      ]
     },
     "metadata": {},
     "output_type": "display_data"
    },
    {
     "data": {
      "text/plain": [
       "Date\n",
       "2018-04-06    64.82\n",
       "2018-04-05    65.18\n",
       "2018-04-04    64.48\n",
       "2018-04-03    64.98\n",
       "2018-04-02    66.09\n",
       "2018-03-29    65.87\n",
       "2018-03-28    66.06\n",
       "2018-03-27    66.81\n",
       "2018-03-26    66.81\n",
       "2018-03-23    66.40\n",
       "Name: Value, dtype: float64"
      ]
     },
     "execution_count": 35,
     "metadata": {},
     "output_type": "execute_result"
    }
   ],
   "source": [
    "from pandas import Series\n",
    "def parser(x):\n",
    "    return pd.to_datetime(x, format='%Y-%m-%d')\n",
    "series = pd.read_csv('OPEC.csv',  header=0 , parse_dates=[0], index_col=0, squeeze=True, date_parser=parser)\n",
    "print('Total Data = {0} days'.format(len(series)))\n",
    "series.plot(c='b', title='OPEC Oil Price')\n",
    "plt.show()\n",
    "series.head(10)\n"
   ]
  },
  {
   "cell_type": "markdown",
   "metadata": {},
   "source": [
    "#### Convert data into array that can be broken up into training \"batches\" that we will feed into our RNN model.  "
   ]
  },
  {
   "cell_type": "code",
   "execution_count": 45,
   "metadata": {},
   "outputs": [
    {
     "name": "stdout",
     "output_type": "stream",
     "text": [
      "43\n",
      "43\n",
      "(43, 90, 1)\n",
      "(43, 90, 1)\n"
     ]
    }
   ],
   "source": [
    "TS = np.array(series)\n",
    "num_periods = 90 #number of periods per vector we are using to predict one period ahead\n",
    "f_horizon = 1  #forecast horizon, one period into the future\n",
    "\n",
    "x_data = TS[:len(TS)-(len(TS) % num_periods)]\n",
    "x_batches = x_data.reshape(-1, num_periods, 1)\n",
    "\n",
    "y_data = TS[1:(len(TS)-(len(TS) % num_periods))+f_horizon]\n",
    "y_batches = y_data.reshape(-1, num_periods, 1)\n",
    "print (len(x_batches))\n",
    "print (len(y_batches))\n",
    "print (x_batches.shape)\n",
    "print (y_batches.shape)"
   ]
  },
  {
   "cell_type": "markdown",
   "metadata": {},
   "source": [
    "#### Pull out our test data"
   ]
  },
  {
   "cell_type": "code",
   "execution_count": 46,
   "metadata": {},
   "outputs": [
    {
     "name": "stdout",
     "output_type": "stream",
     "text": [
      "(1, 90, 1)\n",
      "[[[25.14]\n",
      "  [24.44]\n",
      "  [23.89]\n",
      "  [23.92]\n",
      "  [23.99]\n",
      "  [23.84]\n",
      "  [23.85]\n",
      "  [23.72]\n",
      "  [23.27]\n",
      "  [23.64]\n",
      "  [24.4 ]\n",
      "  [23.97]\n",
      "  [25.14]\n",
      "  [26.24]\n",
      "  [26.64]\n",
      "  [26.25]\n",
      "  [25.71]\n",
      "  [25.56]\n",
      "  [25.35]\n",
      "  [24.96]\n",
      "  [25.4 ]\n",
      "  [25.59]\n",
      "  [25.33]\n",
      "  [24.91]\n",
      "  [25.38]\n",
      "  [26.  ]\n",
      "  [25.76]\n",
      "  [26.8 ]\n",
      "  [27.22]\n",
      "  [27.23]\n",
      "  [26.66]\n",
      "  [25.54]\n",
      "  [26.84]\n",
      "  [25.7 ]\n",
      "  [24.81]\n",
      "  [26.51]\n",
      "  [27.12]\n",
      "  [27.69]\n",
      "  [29.8 ]\n",
      "  [30.98]\n",
      "  [32.42]\n",
      "  [32.74]\n",
      "  [32.54]\n",
      "  [33.11]\n",
      "  [32.79]\n",
      "  [32.5 ]\n",
      "  [32.29]\n",
      "  [32.12]\n",
      "  [31.63]\n",
      "  [32.63]\n",
      "  [32.48]\n",
      "  [32.49]\n",
      "  [32.73]\n",
      "  [32.44]\n",
      "  [31.84]\n",
      "  [31.48]\n",
      "  [31.95]\n",
      "  [31.85]\n",
      "  [31.9 ]\n",
      "  [32.33]\n",
      "  [31.91]\n",
      "  [31.3 ]\n",
      "  [31.35]\n",
      "  [31.38]\n",
      "  [31.25]\n",
      "  [30.77]\n",
      "  [30.52]\n",
      "  [29.98]\n",
      "  [30.29]\n",
      "  [30.71]\n",
      "  [30.58]\n",
      "  [30.3 ]\n",
      "  [29.83]\n",
      "  [30.16]\n",
      "  [30.56]\n",
      "  [30.18]\n",
      "  [30.89]\n",
      "  [30.9 ]\n",
      "  [31.21]\n",
      "  [31.02]\n",
      "  [30.87]\n",
      "  [30.66]\n",
      "  [30.21]\n",
      "  [29.82]\n",
      "  [29.82]\n",
      "  [29.51]\n",
      "  [28.86]\n",
      "  [29.72]\n",
      "  [30.71]\n",
      "  [30.83]]]\n"
     ]
    }
   ],
   "source": [
    "def test_data(series,forecast,num_periods):\n",
    "    test_x_setup = TS[-(num_periods + forecast):]\n",
    "    testX = test_x_setup[:num_periods].reshape(-1, num_periods, 1)\n",
    "    testY = TS[-(num_periods):].reshape(-1, num_periods, 1)\n",
    "    return testX,testY\n",
    "\n",
    "X_test, Y_test = test_data(TS,f_horizon,num_periods )\n",
    "print (X_test.shape)\n",
    "print (X_test)"
   ]
  },
  {
   "cell_type": "code",
   "execution_count": 47,
   "metadata": {},
   "outputs": [],
   "source": [
    "tf.reset_default_graph()   #We didn't have any previous graph objects running, but this would reset the graphs\n",
    "\n",
    "inputs = 1            #number of vectors submitted\n",
    "hidden = 100       #number of neurons we will recursively work through, can be changed to improve accuracy\n",
    "output = 1            #number of output vectors\n",
    "\n",
    "X = tf.placeholder(tf.float32, [None, num_periods, inputs])   #create variable objects\n",
    "y = tf.placeholder(tf.float32, [None, num_periods, output])\n",
    "\n",
    "\n",
    "basicLSTM_cell = tf.contrib.rnn.BasicLSTMCell(hidden)   #create our RNN object\n",
    "rnn_output, states = tf.nn.dynamic_rnn(basicLSTM_cell, X, dtype=tf.float32)               #choose dynamic over static\n",
    "\n",
    "learning_rate = 0.001   #small learning rate so we don't overshoot the minimum\n",
    "\n",
    "stacked_rnn_output = tf.reshape(rnn_output, [-1, hidden])           #change the form into a tensor\n",
    "stacked_outputs = tf.layers.dense(stacked_rnn_output, output)        #specify the type of layer (dense)\n",
    "outputs = tf.reshape(stacked_outputs, [-1, num_periods, output])          #shape of results\n",
    " \n",
    "loss = tf.reduce_sum(tf.square(outputs - y))    #define the cost function which evaluates the quality of our model\n",
    "optimizer = tf.train.AdamOptimizer(learning_rate=learning_rate)          #gradient descent method\n",
    "training_op = optimizer.minimize(loss)          #train the result of the application of the cost_function                                 \n",
    "\n",
    "init = tf.global_variables_initializer()           #initialize all the variables"
   ]
  },
  {
   "cell_type": "code",
   "execution_count": 48,
   "metadata": {},
   "outputs": [
    {
     "name": "stdout",
     "output_type": "stream",
     "text": [
      "0 \tMSE: 22245876.0\n",
      "100 \tMSE: 13836827.0\n",
      "200 \tMSE: 9230959.0\n",
      "300 \tMSE: 6790316.0\n",
      "400 \tMSE: 5219873.5\n",
      "500 \tMSE: 3950429.2\n",
      "600 \tMSE: 3026498.2\n",
      "700 \tMSE: 2344459.2\n",
      "800 \tMSE: 1825598.9\n",
      "900 \tMSE: 1425541.2\n",
      "1000 \tMSE: 1113180.5\n",
      "1100 \tMSE: 867010.56\n",
      "1200 \tMSE: 673478.0\n",
      "1300 \tMSE: 521947.03\n",
      "1400 \tMSE: 404384.34\n",
      "1500 \tMSE: 314173.0\n",
      "1600 \tMSE: 245389.81\n",
      "1700 \tMSE: 193444.28\n",
      "1800 \tMSE: 199352.9\n",
      "1900 \tMSE: 149724.53\n"
     ]
    }
   ],
   "source": [
    "epochs = 1000     #number of iterations or training cycles, includes both the FeedFoward and Backpropogation\n",
    "\n",
    "with tf.Session() as sess:\n",
    "    init.run()\n",
    "    for ep in range(epochs):\n",
    "        sess.run(training_op, feed_dict={X: x_batches, y: y_batches})\n",
    "        if ep % 100 == 0:\n",
    "            mse = loss.eval(feed_dict={X: x_batches, y: y_batches})\n",
    "            print(ep, \"\\tMSE:\", mse)\n",
    "    \n",
    "    y_pred = sess.run(outputs, feed_dict={X: X_test})\n",
    "    #print(y_pred)"
   ]
  },
  {
   "cell_type": "code",
   "execution_count": 41,
   "metadata": {},
   "outputs": [],
   "source": [
    "#### Actual vs predictions against test batch "
   ]
  },
  {
   "cell_type": "code",
   "execution_count": 42,
   "metadata": {},
   "outputs": [
    {
     "data": {
      "image/png": "[encoded data removed]",
      "text/plain": [
       "<Figure size 432x288 with 1 Axes>"
      ]
     },
     "metadata": {},
     "output_type": "display_data"
    }
   ],
   "source": [
    "plt.title(\"Forecast vs Actual\", fontsize=14)\n",
    "plt.plot(pd.Series(np.ravel(Y_test)), \"bo\", markersize=10, label=\"Actual Lvl\")\n",
    "#plt.plot(pd.Series(np.ravel(Y_test)), \"w*\", markersize=10)\n",
    "plt.plot(pd.Series(np.ravel(y_pred)), \"r.\", markersize=10, label=\"Forecast Lvl\")\n",
    "plt.legend(loc=\"upper left\")\n",
    "plt.xlabel(\"Time Periods\")\n",
    "\n",
    "plt.show()\n",
    "\n"
   ]
  },
  {
   "cell_type": "code",
   "execution_count": null,
   "metadata": {},
   "outputs": [],
   "source": []
  },
  {
   "cell_type": "code",
   "execution_count": null,
   "metadata": {},
   "outputs": [],
   "source": []
  }
 ],
 "metadata": {
  "anaconda-cloud": {},
  "kernelspec": {
   "display_name": "Python 3",
   "language": "python",
   "name": "python3"
  },
  "language_info": {
   "codemirror_mode": {
    "name": "ipython",
    "version": 3
   },
   "file_extension": ".py",
   "mimetype": "text/x-python",
   "name": "python",
   "nbconvert_exporter": "python",
   "pygments_lexer": "ipython3",
   "version": "3.6.4"
  }
 },
 "nbformat": 4,
 "nbformat_minor": 1
}
