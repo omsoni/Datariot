{
 "cells": [
  {
   "cell_type": "markdown",
   "metadata": {},
   "source": [
    "# RNN Time Series for Flu Level Predictions"
   ]
  },
  {
   "cell_type": "code",
   "execution_count": null,
   "metadata": {},
   "outputs": [],
   "source": [
    "# Author Om Soni\n",
    "# DSA6100\n",
    "# Week 9 Journal\n",
    "# Use RNN to Predict Flu activity from CDC Flu Level DataSet (Michigan Data)"
   ]
  },
  {
   "cell_type": "code",
   "execution_count": 31,
   "metadata": {},
   "outputs": [],
   "source": [
    "#Import Libraries\n",
    "import tensorflow as tf\n",
    "import pandas as pd\n",
    "import numpy as np\n",
    "import os\n",
    "import matplotlib\n",
    "import matplotlib.pyplot as plt\n",
    "import random\n",
    "%matplotlib inline\n",
    "import tensorflow as tf\n",
    "import shutil\n",
    "import tensorflow.contrib.learn as tflearn\n",
    "import tensorflow.contrib.layers as tflayers\n",
    "from tensorflow.contrib.learn.python.learn import learn_runner\n",
    "import tensorflow.contrib.metrics as metrics\n",
    "import tensorflow.contrib.rnn as rnn"
   ]
  },
  {
   "cell_type": "code",
   "execution_count": 33,
   "metadata": {},
   "outputs": [
    {
     "name": "stdout",
     "output_type": "stream",
     "text": [
      "Total Data = 492 weeks\n"
     ]
    },
    {
     "data": {
      "image/png": "[encoded data removed]",
      "text/plain": [
       "<Figure size 432x288 with 1 Axes>"
      ]
     },
     "metadata": {},
     "output_type": "display_data"
    },
    {
     "data": {
      "text/plain": [
       "WEEKEND\n",
       "2008-10-04    1\n",
       "2008-10-11    1\n",
       "2008-10-18    1\n",
       "2008-10-25    1\n",
       "2008-11-01    1\n",
       "2008-11-08    1\n",
       "2008-11-15    1\n",
       "2008-11-22    1\n",
       "2008-11-29    1\n",
       "2008-12-06    1\n",
       "Name: ACTIVITY LEVEL, dtype: int64"
      ]
     },
     "execution_count": 33,
     "metadata": {},
     "output_type": "execute_result"
    }
   ],
   "source": [
    "from pandas import Series\n",
    "def parser(x):\n",
    "    return pd.to_datetime(x, format='%m/%d/%y')\n",
    "series = pd.read_csv('../FluPredictors.csv',  header=0 , parse_dates=[0], index_col=0, squeeze=True, date_parser=parser)\n",
    "print('Total Data = {0} weeks'.format(len(series)))\n",
    "series.plot(c='b', title='Flu Activity')\n",
    "plt.show()\n",
    "series.head(10)\n"
   ]
  },
  {
   "cell_type": "markdown",
   "metadata": {},
   "source": [
    "#### Convert Flu data into array that can be broken up into training \"batches\" that we will feed into our RNN model.  "
   ]
  },
  {
   "cell_type": "code",
   "execution_count": 41,
   "metadata": {},
   "outputs": [
    {
     "name": "stdout",
     "output_type": "stream",
     "text": [
      "9\n",
      "9\n",
      "(9, 50, 1)\n",
      "(9, 50, 1)\n"
     ]
    }
   ],
   "source": [
    "TS = np.array(series)\n",
    "num_periods = 50\n",
    "f_horizon = 1  #forecast horizon, one period into the future\n",
    "\n",
    "x_data = TS[:(len(TS)-(len(TS) % num_periods))]\n",
    "x_batches = x_data.reshape(-1, num_periods, 1)\n",
    "\n",
    "y_data = TS[1:(len(TS)-(len(TS) % num_periods))+f_horizon]\n",
    "y_batches = y_data.reshape(-1, num_periods, 1)\n",
    "print (len(x_batches))\n",
    "print (len(y_batches))\n",
    "print (x_batches.shape)\n",
    "print (y_batches.shape)"
   ]
  },
  {
   "cell_type": "markdown",
   "metadata": {},
   "source": [
    "#### Pull out our test data"
   ]
  },
  {
   "cell_type": "code",
   "execution_count": 42,
   "metadata": {},
   "outputs": [
    {
     "name": "stdout",
     "output_type": "stream",
     "text": [
      "(1, 50, 1)\n",
      "[[[ 6]\n",
      "  [ 6]\n",
      "  [ 5]\n",
      "  [ 2]\n",
      "  [ 1]\n",
      "  [ 1]\n",
      "  [ 1]\n",
      "  [ 1]\n",
      "  [ 1]\n",
      "  [ 1]\n",
      "  [ 1]\n",
      "  [ 1]\n",
      "  [ 1]\n",
      "  [ 1]\n",
      "  [ 1]\n",
      "  [ 1]\n",
      "  [ 1]\n",
      "  [ 1]\n",
      "  [ 1]\n",
      "  [ 1]\n",
      "  [ 1]\n",
      "  [ 1]\n",
      "  [ 1]\n",
      "  [ 1]\n",
      "  [ 1]\n",
      "  [ 1]\n",
      "  [ 1]\n",
      "  [ 1]\n",
      "  [ 1]\n",
      "  [ 1]\n",
      "  [ 1]\n",
      "  [ 1]\n",
      "  [ 1]\n",
      "  [ 1]\n",
      "  [ 2]\n",
      "  [ 2]\n",
      "  [ 3]\n",
      "  [ 2]\n",
      "  [ 3]\n",
      "  [ 4]\n",
      "  [ 5]\n",
      "  [ 7]\n",
      "  [ 6]\n",
      "  [ 9]\n",
      "  [10]\n",
      "  [10]\n",
      "  [10]\n",
      "  [10]\n",
      "  [ 9]\n",
      "  [ 8]]]\n"
     ]
    }
   ],
   "source": [
    "def test_data(series,forecast,num_periods):\n",
    "    test_x_setup = TS[-(num_periods + forecast):]\n",
    "    testX = test_x_setup[:num_periods].reshape(-1, num_periods, 1)\n",
    "    testY = TS[-(num_periods):].reshape(-1, num_periods, 1)\n",
    "    return testX,testY\n",
    "\n",
    "X_test, Y_test = test_data(TS,f_horizon,num_periods )\n",
    "print (X_test.shape)\n",
    "print (X_test)"
   ]
  },
  {
   "cell_type": "raw",
   "metadata": {},
   "source": [
    "#### Here we are using BasicRNN Cell from Tensorflow to create a dynamic RNN with 100 neurons."
   ]
  },
  {
   "cell_type": "code",
   "execution_count": 36,
   "metadata": {},
   "outputs": [],
   "source": [
    "tf.reset_default_graph()   #We didn't have any previous graph objects running, but this would reset the graphs\n",
    "\n",
    "num_periods = 50      #number of periods per vector we are using to predict one period ahead\n",
    "inputs = 1            #number of vectors submitted\n",
    "hidden = 100          #number of neurons we will recursively work through, can be changed to improve accuracy\n",
    "output = 1            #number of output vectors\n",
    "\n",
    "X = tf.placeholder(tf.float32, [None, num_periods, inputs])   #create variable objects\n",
    "y = tf.placeholder(tf.float32, [None, num_periods, output])\n",
    "\n",
    "\n",
    "basic_cell = tf.contrib.rnn.BasicRNNCell(num_units=hidden, activation=tf.nn.relu)   #create our RNN object\n",
    "rnn_output, states = tf.nn.dynamic_rnn(basic_cell, X, dtype=tf.float32)               #choose dynamic over static\n",
    "\n",
    "learning_rate = 0.001   #small learning rate so we don't overshoot the minimum\n",
    "\n",
    "stacked_rnn_output = tf.reshape(rnn_output, [-1, hidden])           #change the form into a tensor\n",
    "stacked_outputs = tf.layers.dense(stacked_rnn_output, output)        #specify the type of layer (dense)\n",
    "outputs = tf.reshape(stacked_outputs, [-1, num_periods, output])          #shape of results\n",
    " \n",
    "loss = tf.reduce_sum(tf.square(outputs - y))    #define the cost function which evaluates the quality of our model\n",
    "optimizer = tf.train.AdamOptimizer(learning_rate=learning_rate)          #gradient descent method\n",
    "training_op = optimizer.minimize(loss)          #train the result of the application of the cost_function                                 \n",
    "\n",
    "init = tf.global_variables_initializer()           #initialize all the variables"
   ]
  },
  {
   "cell_type": "code",
   "execution_count": 37,
   "metadata": {},
   "outputs": [
    {
     "name": "stdout",
     "output_type": "stream",
     "text": [
      "0 \tMSE: 2504.5256\n",
      "100 \tMSE: 293.49393\n",
      "200 \tMSE: 227.9141\n",
      "300 \tMSE: 185.46738\n",
      "400 \tMSE: 148.12256\n",
      "500 \tMSE: 128.06212\n",
      "600 \tMSE: 115.34688\n",
      "700 \tMSE: 132.6329\n",
      "800 \tMSE: 80.624794\n",
      "900 \tMSE: 71.0893\n",
      "1000 \tMSE: 120.3263\n",
      "1100 \tMSE: 57.485165\n",
      "1200 \tMSE: 53.351795\n",
      "1300 \tMSE: 51.50996\n",
      "1400 \tMSE: 48.369583\n",
      "1500 \tMSE: 46.08147\n",
      "1600 \tMSE: 43.605465\n",
      "1700 \tMSE: 41.83415\n",
      "1800 \tMSE: 44.726776\n",
      "1900 \tMSE: 39.179974\n",
      "2000 \tMSE: 39.88624\n",
      "2100 \tMSE: 35.94564\n",
      "2200 \tMSE: 35.085987\n",
      "2300 \tMSE: 33.07343\n",
      "2400 \tMSE: 31.777182\n",
      "2500 \tMSE: 30.378433\n",
      "2600 \tMSE: 48.262417\n",
      "2700 \tMSE: 29.884993\n",
      "2800 \tMSE: 27.332556\n",
      "2900 \tMSE: 87.09444\n",
      "3000 \tMSE: 25.13123\n",
      "3100 \tMSE: 23.513912\n",
      "3200 \tMSE: 22.533186\n",
      "3300 \tMSE: 21.2455\n",
      "3400 \tMSE: 20.492891\n",
      "3500 \tMSE: 19.942146\n",
      "3600 \tMSE: 43.875595\n",
      "3700 \tMSE: 23.585678\n",
      "3800 \tMSE: 21.354881\n",
      "3900 \tMSE: 20.214792\n",
      "4000 \tMSE: 19.340418\n",
      "4100 \tMSE: 17.734594\n",
      "4200 \tMSE: 17.182816\n",
      "4300 \tMSE: 16.522297\n",
      "4400 \tMSE: 16.431438\n",
      "4500 \tMSE: 15.938154\n",
      "4600 \tMSE: 24.63171\n",
      "4700 \tMSE: 15.573775\n",
      "4800 \tMSE: 15.196898\n",
      "4900 \tMSE: 14.983104\n",
      "5000 \tMSE: 14.907648\n",
      "5100 \tMSE: 14.658802\n",
      "5200 \tMSE: 14.587828\n",
      "5300 \tMSE: 71.448975\n",
      "5400 \tMSE: 18.474854\n",
      "5500 \tMSE: 16.569923\n",
      "5600 \tMSE: 15.786113\n",
      "5700 \tMSE: 15.335792\n",
      "5800 \tMSE: 15.250624\n",
      "5900 \tMSE: 15.069479\n",
      "6000 \tMSE: 14.53007\n",
      "6100 \tMSE: 14.3376665\n",
      "6200 \tMSE: 14.365198\n",
      "6300 \tMSE: 14.13457\n",
      "6400 \tMSE: 14.077052\n",
      "6500 \tMSE: 13.999049\n",
      "6600 \tMSE: 19.701317\n",
      "6700 \tMSE: 13.9493885\n",
      "6800 \tMSE: 13.89929\n",
      "6900 \tMSE: 13.868838\n",
      "7000 \tMSE: 14.124667\n",
      "7100 \tMSE: 13.835333\n",
      "7200 \tMSE: 14.668638\n",
      "7300 \tMSE: 13.953683\n",
      "7400 \tMSE: 13.878064\n",
      "7500 \tMSE: 13.838195\n",
      "7600 \tMSE: 13.811615\n",
      "7700 \tMSE: 13.795584\n",
      "7800 \tMSE: 13.780946\n",
      "7900 \tMSE: 13.770004\n",
      "8000 \tMSE: 13.758307\n",
      "8100 \tMSE: 13.774169\n",
      "8200 \tMSE: 13.744127\n",
      "8300 \tMSE: 13.738638\n",
      "8400 \tMSE: 17.104925\n",
      "8500 \tMSE: 23.484474\n",
      "8600 \tMSE: 18.01388\n",
      "8700 \tMSE: 16.53756\n",
      "8800 \tMSE: 19.379478\n",
      "8900 \tMSE: 15.246513\n",
      "9000 \tMSE: 14.8967705\n",
      "9100 \tMSE: 14.646702\n",
      "9200 \tMSE: 14.4546\n",
      "9300 \tMSE: 14.32937\n",
      "9400 \tMSE: 20.222794\n",
      "9500 \tMSE: 14.199141\n",
      "9600 \tMSE: 14.084575\n",
      "9700 \tMSE: 14.014106\n",
      "9800 \tMSE: 14.080522\n",
      "9900 \tMSE: 13.911713\n"
     ]
    }
   ],
   "source": [
    "epochs = 10000     #number of iterations or training cycles, includes both the FeedFoward and Backpropogation\n",
    "\n",
    "with tf.Session() as sess:\n",
    "    init.run()\n",
    "    for ep in range(epochs):\n",
    "        sess.run(training_op, feed_dict={X: x_batches, y: y_batches})\n",
    "        if ep % 100 == 0:\n",
    "            mse = loss.eval(feed_dict={X: x_batches, y: y_batches})\n",
    "            print(ep, \"\\tMSE:\", mse)\n",
    "    \n",
    "    y_pred = sess.run(outputs, feed_dict={X: X_test})\n",
    "    #print(y_pred)"
   ]
  },
  {
   "cell_type": "code",
   "execution_count": 46,
   "metadata": {},
   "outputs": [],
   "source": [
    "#### Actual vs predictions against test batch "
   ]
  },
  {
   "cell_type": "code",
   "execution_count": 47,
   "metadata": {},
   "outputs": [
    {
     "data": {
      "image/png": "[encoded data removed]",
      "text/plain": [
       "<Figure size 432x288 with 1 Axes>"
      ]
     },
     "metadata": {},
     "output_type": "display_data"
    }
   ],
   "source": [
    "plt.title(\"Forecast vs Actual\", fontsize=14)\n",
    "plt.plot(pd.Series(np.ravel(Y_test)), \"bo\", markersize=10, label=\"Actual Lvl\")\n",
    "#plt.plot(pd.Series(np.ravel(Y_test)), \"w*\", markersize=10)\n",
    "plt.plot(pd.Series(np.ravel(y_pred)), \"r.\", markersize=10, label=\"Forecast Lvl\")\n",
    "plt.legend(loc=\"upper left\")\n",
    "plt.xlabel(\"Time Periods\")\n",
    "\n",
    "plt.show()\n",
    "\n"
   ]
  }
 ],
 "metadata": {
  "anaconda-cloud": {},
  "kernelspec": {
   "display_name": "Python 3",
   "language": "python",
   "name": "python3"
  },
  "language_info": {
   "codemirror_mode": {
    "name": "ipython",
    "version": 3
   },
   "file_extension": ".py",
   "mimetype": "text/x-python",
   "name": "python",
   "nbconvert_exporter": "python",
   "pygments_lexer": "ipython3",
   "version": "3.6.4"
  }
 },
 "nbformat": 4,
 "nbformat_minor": 1
}
