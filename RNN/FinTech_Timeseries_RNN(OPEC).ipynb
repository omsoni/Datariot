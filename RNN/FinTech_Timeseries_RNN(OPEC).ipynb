{
 "cells": [
  {
   "cell_type": "markdown",
   "metadata": {},
   "source": [
    "# RNN Time Series for OPEC Predictions"
   ]
  },
  {
   "cell_type": "code",
   "execution_count": 65,
   "metadata": {},
   "outputs": [],
   "source": [
    "import warnings\n",
    "warnings.simplefilter(\"ignore\", UserWarning)\n",
    "warnings.simplefilter(\"ignore\", FutureWarning)\n",
    "import sklearn.preprocessing\n",
    "import tensorflow as tf\n",
    "import pandas as pd\n",
    "import numpy as np\n",
    "import os\n",
    "import matplotlib\n",
    "import matplotlib.pyplot as plt\n",
    "import random\n",
    "%matplotlib inline\n",
    "import tensorflow as tf\n",
    "import shutil\n",
    "import tensorflow.contrib.learn as tflearn\n",
    "import tensorflow.contrib.layers as tflayers\n",
    "from tensorflow.contrib.learn.python.learn import learn_runner\n",
    "import tensorflow.contrib.metrics as metrics\n",
    "import tensorflow.contrib.rnn as rnn\n",
    "import quandl"
   ]
  },
  {
   "cell_type": "code",
   "execution_count": 66,
   "metadata": {},
   "outputs": [],
   "source": [
    "quandl.ApiConfig.api_key = \"EodKRXnzq6S5xDQy1ZBQ\""
   ]
  },
  {
   "cell_type": "code",
   "execution_count": 67,
   "metadata": {},
   "outputs": [
    {
     "name": "stdout",
     "output_type": "stream",
     "text": [
      "Total Data = 3939 days\n"
     ]
    },
    {
     "data": {
      "image/png": "[encoded data removed]",
      "text/plain": [
       "<Figure size 432x288 with 1 Axes>"
      ]
     },
     "metadata": {},
     "output_type": "display_data"
    },
    {
     "data": {
      "text/plain": [
       "Date\n",
       "2018-04-06    64.82\n",
       "2018-04-05    65.18\n",
       "2018-04-04    64.48\n",
       "2018-04-03    64.98\n",
       "2018-04-02    66.09\n",
       "2018-03-29    65.87\n",
       "2018-03-28    66.06\n",
       "2018-03-27    66.81\n",
       "2018-03-26    66.81\n",
       "2018-03-23    66.40\n",
       "Name: Value, dtype: float64"
      ]
     },
     "execution_count": 67,
     "metadata": {},
     "output_type": "execute_result"
    }
   ],
   "source": [
    "from pandas import Series\n",
    "def parser(x):\n",
    "    return pd.to_datetime(x, format='%Y-%m-%d')\n",
    "OPEC_Data = pd.read_csv('OPEC.csv',  header=0 , parse_dates=[0], index_col=0, squeeze=True, date_parser=parser)\n",
    "print('Total Data = {0} days'.format(len(OPEC_Data)))\n",
    "OPEC_Data.plot(c='b', title='OPEC Oil Price')\n",
    "plt.show()\n",
    "OPEC_Data.head(10)\n"
   ]
  },
  {
   "cell_type": "code",
   "execution_count": 68,
   "metadata": {},
   "outputs": [
    {
     "data": {
      "text/plain": [
       "count    3939.000000\n",
       "mean       69.206971\n",
       "std        28.389810\n",
       "min        22.480000\n",
       "25%        46.255000\n",
       "50%        63.020000\n",
       "75%        99.125000\n",
       "max       140.730000\n",
       "Name: Value, dtype: float64"
      ]
     },
     "execution_count": 68,
     "metadata": {},
     "output_type": "execute_result"
    }
   ],
   "source": [
    "OPEC_Data.describe()"
   ]
  },
  {
   "cell_type": "markdown",
   "metadata": {},
   "source": [
    "#### Convert data into array that can be broken up into training \"batches\" that we will feed into our RNN model.  "
   ]
  },
  {
   "cell_type": "code",
   "execution_count": 94,
   "metadata": {},
   "outputs": [
    {
     "name": "stdout",
     "output_type": "stream",
     "text": [
      "10\n",
      "10\n",
      "(10, 360, 1)\n",
      "(10, 360, 1)\n"
     ]
    }
   ],
   "source": [
    "scaler = sklearn.preprocessing.MinMaxScaler()\n",
    "normData = scaler.fit_transform(OPEC_Data.values.reshape(-1,1))\n",
    "TS = np.array(normData)\n",
    "\n",
    "num_periods = 360 #number of periods per vector we are using to predict one period ahead\n",
    "f_horizon = 1  #forecast horizon, one period into the future\n",
    "\n",
    "x_data = TS[:(len(TS)-(len(TS) % num_periods))]\n",
    "x_batches = x_data.reshape(-1, num_periods, 1)\n",
    "\n",
    "y_data = TS[1:(len(TS)-(len(TS) % num_periods))+f_horizon]\n",
    "y_batches = y_data.reshape(-1, num_periods, 1)\n",
    "print (len(x_batches))\n",
    "print (len(y_batches))\n",
    "print (x_batches.shape)\n",
    "print (y_batches.shape)"
   ]
  },
  {
   "cell_type": "markdown",
   "metadata": {},
   "source": [
    "#### Pull out our test data"
   ]
  },
  {
   "cell_type": "code",
   "execution_count": 95,
   "metadata": {},
   "outputs": [],
   "source": [
    "def test_data(series,forecast,num_periods):\n",
    "    test_x_setup = TS[-(num_periods + forecast):]\n",
    "    testX = test_x_setup[:num_periods].reshape(-1, num_periods, 1)\n",
    "    testY = TS[-(num_periods):].reshape(-1, num_periods, 1)\n",
    "    return testX,testY\n",
    "\n",
    "X_test, Y_test = test_data(TS,f_horizon,num_periods )\n",
    "#print (X_test.shape)\n",
    "#print (X_test)"
   ]
  },
  {
   "cell_type": "code",
   "execution_count": 96,
   "metadata": {},
   "outputs": [],
   "source": [
    "tf.reset_default_graph()   #We didn't have any previous graph objects running, but this would reset the graphs\n",
    "\n",
    "inputs = 1            #number of vectors submitted\n",
    "hidden = 50          #number of neurons we will recursively work through, can be changed to improve accuracy\n",
    "output = 1            #number of output vectors\n",
    "\n",
    "X = tf.placeholder(tf.float32, [None, num_periods, inputs])   #create variable objects\n",
    "y = tf.placeholder(tf.float32, [None, num_periods, output])\n",
    "\n",
    "\n",
    "basic_cell = tf.contrib.rnn.BasicRNNCell(num_units=hidden, activation=tf.nn.relu)   #create our RNN object\n",
    "rnn_output, states = tf.nn.dynamic_rnn(basic_cell, X, dtype=tf.float32)               #choose dynamic over static\n",
    "\n",
    "learning_rate = 0.001   #small learning rate so we don't overshoot the minimum\n",
    "\n",
    "stacked_rnn_output = tf.reshape(rnn_output, [-1, hidden])           #change the form into a tensor\n",
    "stacked_outputs = tf.layers.dense(stacked_rnn_output, output)        #specify the type of layer (dense)\n",
    "outputs = tf.reshape(stacked_outputs, [-1, num_periods, output])          #shape of results\n",
    " \n",
    "loss = tf.reduce_sum(tf.square(outputs - y))    #define the cost function which evaluates the quality of our model\n",
    "optimizer = tf.train.AdamOptimizer(learning_rate=learning_rate)          #gradient descent method\n",
    "training_op = optimizer.minimize(loss)          #train the result of the application of the cost_function                                 \n",
    "\n",
    "init = tf.global_variables_initializer()           #initialize all the variables"
   ]
  },
  {
   "cell_type": "code",
   "execution_count": 97,
   "metadata": {},
   "outputs": [
    {
     "name": "stdout",
     "output_type": "stream",
     "text": [
      "0 MSETrain:[[94532.05]] \tMSETest:[[154.33803]] \n",
      "50 MSETrain:[[875.6708]] \tMSETest:[[296.08725]] \n",
      "100 MSETrain:[[250.70654]] \tMSETest:[[54.244564]] \n",
      "150 MSETrain:[[178.99246]] \tMSETest:[[25.158249]] \n",
      "200 MSETrain:[[124.54208]] \tMSETest:[[23.783176]] \n",
      "250 MSETrain:[[90.73372]] \tMSETest:[[24.064522]] \n",
      "300 MSETrain:[[75.28401]] \tMSETest:[[24.233166]] \n",
      "350 MSETrain:[[67.43489]] \tMSETest:[[23.884111]] \n",
      "400 MSETrain:[[62.068848]] \tMSETest:[[23.347855]] \n",
      "450 MSETrain:[[59.301987]] \tMSETest:[[23.438894]] \n",
      "500 MSETrain:[[57.801716]] \tMSETest:[[23.497295]] \n",
      "550 MSETrain:[[56.839554]] \tMSETest:[[23.554064]] \n",
      "600 MSETrain:[[56.160088]] \tMSETest:[[23.59296]] \n",
      "650 MSETrain:[[55.881214]] \tMSETest:[[23.679092]] \n",
      "700 MSETrain:[[55.464947]] \tMSETest:[[23.697678]] \n",
      "750 MSETrain:[[55.27967]] \tMSETest:[[23.740864]] \n",
      "800 MSETrain:[[55.17957]] \tMSETest:[[23.77145]] \n",
      "850 MSETrain:[[55.050903]] \tMSETest:[[23.801702]] \n",
      "900 MSETrain:[[55.050014]] \tMSETest:[[23.838453]] \n",
      "950 MSETrain:[[54.84559]] \tMSETest:[[23.881968]] \n",
      "1000 MSETrain:[[54.773685]] \tMSETest:[[24.200575]] \n",
      "1050 MSETrain:[[54.788]] \tMSETest:[[36.15415]] \n",
      "1100 MSETrain:[[54.600914]] \tMSETest:[[48.65211]] \n",
      "1150 MSETrain:[[54.705708]] \tMSETest:[[59.676525]] \n",
      "1200 MSETrain:[[54.55562]] \tMSETest:[[57.319496]] \n",
      "1250 MSETrain:[[54.55706]] \tMSETest:[[68.77899]] \n",
      "1300 MSETrain:[[54.59815]] \tMSETest:[[81.8245]] \n",
      "1350 MSETrain:[[54.582638]] \tMSETest:[[24.127935]] \n",
      "1400 MSETrain:[[54.518074]] \tMSETest:[[24.173916]] \n",
      "1450 MSETrain:[[54.431618]] \tMSETest:[[24.12277]] \n",
      "1500 MSETrain:[[54.421406]] \tMSETest:[[24.12957]] \n",
      "1550 MSETrain:[[54.57803]] \tMSETest:[[24.11626]] \n",
      "1600 MSETrain:[[54.332172]] \tMSETest:[[24.128958]] \n",
      "1650 MSETrain:[[54.323692]] \tMSETest:[[24.15137]] \n",
      "1700 MSETrain:[[54.279545]] \tMSETest:[[24.146772]] \n",
      "1750 MSETrain:[[54.22676]] \tMSETest:[[24.183727]] \n",
      "1800 MSETrain:[[54.20055]] \tMSETest:[[24.186407]] \n",
      "1850 MSETrain:[[54.210564]] \tMSETest:[[24.222597]] \n",
      "1900 MSETrain:[[54.09667]] \tMSETest:[[24.282597]] \n",
      "1950 MSETrain:[[54.10443]] \tMSETest:[[24.365957]] \n"
     ]
    }
   ],
   "source": [
    "epochs = 2000     #number of iterations or training cycles, includes both the FeedFoward and Backpropogation\n",
    "\n",
    "with tf.Session() as sess:\n",
    "    init.run()\n",
    "    for ep in range(epochs):\n",
    "        sess.run(training_op, feed_dict={X: x_batches, y: y_batches})\n",
    "        if ep % 50 == 0:\n",
    "            mse = loss.eval(feed_dict={X: x_batches, y: y_batches})\n",
    "            #print(ep, \"\\tMSETrain:\", scaler.inverse_transform(mse.reshape(-1,1)))\n",
    "            mseTest = loss.eval(feed_dict={X: X_test, y: Y_test}) #X_test, Y_test\n",
    "            print(ep, \"MSETrain:{0} \\tMSETest:{1} \"\n",
    "                  .format(scaler.inverse_transform(mse.reshape(-1,1)), scaler.inverse_transform(mseTest.reshape(-1,1))))\n",
    "    \n",
    "    y_pred = sess.run(outputs, feed_dict={X: X_test})\n",
    "    #print(y_pred)"
   ]
  },
  {
   "cell_type": "code",
   "execution_count": 60,
   "metadata": {},
   "outputs": [],
   "source": [
    "#### Actual vs predictions against test batch "
   ]
  },
  {
   "cell_type": "code",
   "execution_count": 64,
   "metadata": {},
   "outputs": [
    {
     "data": {
      "image/png": "[encoded data removed]",
      "text/plain": [
       "<Figure size 432x288 with 1 Axes>"
      ]
     },
     "metadata": {},
     "output_type": "display_data"
    }
   ],
   "source": [
    "plt.title(\"OPEC: Forecast vs Actual\", fontsize=14)\n",
    "testset = scaler.inverse_transform(Y_test.reshape(-1,1))\n",
    "prediction = scaler.inverse_transform(y_pred.reshape(-1,1))\n",
    "plt.plot(pd.Series(np.ravel(testset)), \"bo\", markersize=10, label=\"Actual Lvl\")\n",
    "#plt.plot(pd.Series(np.ravel(Y_test)), \"w*\", markersize=10)\n",
    "plt.plot(pd.Series(np.ravel(prediction)), \"r.\", markersize=10, label=\"Forecast Lvl\")\n",
    "plt.legend(loc=\"upper left\")\n",
    "plt.xlabel(\"Time Periods(Steps/Days)\")\n",
    "\n",
    "plt.show()\n",
    "\n"
   ]
  }
 ],
 "metadata": {
  "anaconda-cloud": {},
  "kernelspec": {
   "display_name": "Python 3",
   "language": "python",
   "name": "python3"
  },
  "language_info": {
   "codemirror_mode": {
    "name": "ipython",
    "version": 3
   },
   "file_extension": ".py",
   "mimetype": "text/x-python",
   "name": "python",
   "nbconvert_exporter": "python",
   "pygments_lexer": "ipython3",
   "version": "3.6.4"
  }
 },
 "nbformat": 4,
 "nbformat_minor": 1
}
