{
 "cells": [
  {
   "cell_type": "markdown",
   "metadata": {},
   "source": [
    "# RNN Time Series for OPEC Predictions"
   ]
  },
  {
   "cell_type": "code",
   "execution_count": 24,
   "metadata": {},
   "outputs": [],
   "source": [
    "#Import Libraries\n",
    "import tensorflow as tf\n",
    "import pandas as pd\n",
    "import numpy as np\n",
    "import os\n",
    "import matplotlib\n",
    "import matplotlib.pyplot as plt\n",
    "import random\n",
    "%matplotlib inline\n",
    "import tensorflow as tf\n",
    "import shutil\n",
    "import tensorflow.contrib.learn as tflearn\n",
    "import tensorflow.contrib.layers as tflayers\n",
    "from tensorflow.contrib.learn.python.learn import learn_runner\n",
    "import tensorflow.contrib.metrics as metrics\n",
    "import tensorflow.contrib.rnn as rnn\n",
    "import quandl"
   ]
  },
  {
   "cell_type": "code",
   "execution_count": 25,
   "metadata": {},
   "outputs": [],
   "source": [
    "quandl.ApiConfig.api_key = \"EodKRXnzq6S5xDQy1ZBQ\""
   ]
  },
  {
   "cell_type": "code",
   "execution_count": 26,
   "metadata": {},
   "outputs": [
    {
     "name": "stdout",
     "output_type": "stream",
     "text": [
      "Total Data = 3939 days\n"
     ]
    },
    {
     "data": {
      "image/png": "[encoded data removed]",
      "text/plain": [
       "<Figure size 432x288 with 1 Axes>"
      ]
     },
     "metadata": {},
     "output_type": "display_data"
    },
    {
     "data": {
      "text/plain": [
       "Date\n",
       "2018-04-06    64.82\n",
       "2018-04-05    65.18\n",
       "2018-04-04    64.48\n",
       "2018-04-03    64.98\n",
       "2018-04-02    66.09\n",
       "2018-03-29    65.87\n",
       "2018-03-28    66.06\n",
       "2018-03-27    66.81\n",
       "2018-03-26    66.81\n",
       "2018-03-23    66.40\n",
       "Name: Value, dtype: float64"
      ]
     },
     "execution_count": 26,
     "metadata": {},
     "output_type": "execute_result"
    }
   ],
   "source": [
    "from pandas import Series\n",
    "def parser(x):\n",
    "    return pd.to_datetime(x, format='%Y-%m-%d')\n",
    "series = pd.read_csv('../OPEC.csv',  header=0 , parse_dates=[0], index_col=0, squeeze=True, date_parser=parser)\n",
    "print('Total Data = {0} days'.format(len(series)))\n",
    "series.plot(c='b', title='OPEC Oil Price')\n",
    "plt.show()\n",
    "series.head(10)\n"
   ]
  },
  {
   "cell_type": "markdown",
   "metadata": {},
   "source": [
    "#### Convert data into array that can be broken up into training \"batches\" that we will feed into our RNN model.  "
   ]
  },
  {
   "cell_type": "code",
   "execution_count": 27,
   "metadata": {},
   "outputs": [
    {
     "name": "stdout",
     "output_type": "stream",
     "text": [
      "43\n",
      "43\n",
      "(43, 90, 1)\n",
      "(43, 90, 1)\n"
     ]
    }
   ],
   "source": [
    "TS = np.array(series)\n",
    "num_periods = 90 #number of periods per vector we are using to predict one period ahead\n",
    "f_horizon = 1  #forecast horizon, one period into the future\n",
    "\n",
    "x_data = TS[:(len(TS)-(len(TS) % num_periods))]\n",
    "x_batches = x_data.reshape(-1, num_periods, 1)\n",
    "\n",
    "y_data = TS[1:(len(TS)-(len(TS) % num_periods))+f_horizon]\n",
    "y_batches = y_data.reshape(-1, num_periods, 1)\n",
    "print (len(x_batches))\n",
    "print (len(y_batches))\n",
    "print (x_batches.shape)\n",
    "print (y_batches.shape)"
   ]
  },
  {
   "cell_type": "markdown",
   "metadata": {},
   "source": [
    "#### Pull out our test data"
   ]
  },
  {
   "cell_type": "code",
   "execution_count": 28,
   "metadata": {},
   "outputs": [
    {
     "name": "stdout",
     "output_type": "stream",
     "text": [
      "(1, 90, 1)\n",
      "[[[25.14]\n",
      "  [24.44]\n",
      "  [23.89]\n",
      "  [23.92]\n",
      "  [23.99]\n",
      "  [23.84]\n",
      "  [23.85]\n",
      "  [23.72]\n",
      "  [23.27]\n",
      "  [23.64]\n",
      "  [24.4 ]\n",
      "  [23.97]\n",
      "  [25.14]\n",
      "  [26.24]\n",
      "  [26.64]\n",
      "  [26.25]\n",
      "  [25.71]\n",
      "  [25.56]\n",
      "  [25.35]\n",
      "  [24.96]\n",
      "  [25.4 ]\n",
      "  [25.59]\n",
      "  [25.33]\n",
      "  [24.91]\n",
      "  [25.38]\n",
      "  [26.  ]\n",
      "  [25.76]\n",
      "  [26.8 ]\n",
      "  [27.22]\n",
      "  [27.23]\n",
      "  [26.66]\n",
      "  [25.54]\n",
      "  [26.84]\n",
      "  [25.7 ]\n",
      "  [24.81]\n",
      "  [26.51]\n",
      "  [27.12]\n",
      "  [27.69]\n",
      "  [29.8 ]\n",
      "  [30.98]\n",
      "  [32.42]\n",
      "  [32.74]\n",
      "  [32.54]\n",
      "  [33.11]\n",
      "  [32.79]\n",
      "  [32.5 ]\n",
      "  [32.29]\n",
      "  [32.12]\n",
      "  [31.63]\n",
      "  [32.63]\n",
      "  [32.48]\n",
      "  [32.49]\n",
      "  [32.73]\n",
      "  [32.44]\n",
      "  [31.84]\n",
      "  [31.48]\n",
      "  [31.95]\n",
      "  [31.85]\n",
      "  [31.9 ]\n",
      "  [32.33]\n",
      "  [31.91]\n",
      "  [31.3 ]\n",
      "  [31.35]\n",
      "  [31.38]\n",
      "  [31.25]\n",
      "  [30.77]\n",
      "  [30.52]\n",
      "  [29.98]\n",
      "  [30.29]\n",
      "  [30.71]\n",
      "  [30.58]\n",
      "  [30.3 ]\n",
      "  [29.83]\n",
      "  [30.16]\n",
      "  [30.56]\n",
      "  [30.18]\n",
      "  [30.89]\n",
      "  [30.9 ]\n",
      "  [31.21]\n",
      "  [31.02]\n",
      "  [30.87]\n",
      "  [30.66]\n",
      "  [30.21]\n",
      "  [29.82]\n",
      "  [29.82]\n",
      "  [29.51]\n",
      "  [28.86]\n",
      "  [29.72]\n",
      "  [30.71]\n",
      "  [30.83]]]\n"
     ]
    }
   ],
   "source": [
    "def test_data(series,forecast,num_periods):\n",
    "    test_x_setup = TS[-(num_periods + forecast):]\n",
    "    testX = test_x_setup[:num_periods].reshape(-1, num_periods, 1)\n",
    "    testY = TS[-(num_periods):].reshape(-1, num_periods, 1)\n",
    "    return testX,testY\n",
    "\n",
    "X_test, Y_test = test_data(TS,f_horizon,num_periods )\n",
    "print (X_test.shape)\n",
    "print (X_test)"
   ]
  },
  {
   "cell_type": "code",
   "execution_count": 47,
   "metadata": {},
   "outputs": [],
   "source": [
    "tf.reset_default_graph()   #We didn't have any previous graph objects running, but this would reset the graphs\n",
    "\n",
    "inputs = 1            #number of vectors submitted\n",
    "hidden = 50          #number of neurons we will recursively work through, can be changed to improve accuracy\n",
    "output = 1            #number of output vectors\n",
    "\n",
    "X = tf.placeholder(tf.float32, [None, num_periods, inputs])   #create variable objects\n",
    "y = tf.placeholder(tf.float32, [None, num_periods, output])\n",
    "\n",
    "\n",
    "basic_cell = tf.contrib.rnn.BasicRNNCell(num_units=hidden, activation=tf.nn.relu)   #create our RNN object\n",
    "rnn_output, states = tf.nn.dynamic_rnn(basic_cell, X, dtype=tf.float32)               #choose dynamic over static\n",
    "\n",
    "learning_rate = 0.001   #small learning rate so we don't overshoot the minimum\n",
    "\n",
    "stacked_rnn_output = tf.reshape(rnn_output, [-1, hidden])           #change the form into a tensor\n",
    "stacked_outputs = tf.layers.dense(stacked_rnn_output, output)        #specify the type of layer (dense)\n",
    "outputs = tf.reshape(stacked_outputs, [-1, num_periods, output])          #shape of results\n",
    " \n",
    "loss = tf.reduce_sum(tf.square(outputs - y))    #define the cost function which evaluates the quality of our model\n",
    "optimizer = tf.train.AdamOptimizer(learning_rate=learning_rate)          #gradient descent method\n",
    "training_op = optimizer.minimize(loss)          #train the result of the application of the cost_function                                 \n",
    "\n",
    "init = tf.global_variables_initializer()           #initialize all the variables"
   ]
  },
  {
   "cell_type": "code",
   "execution_count": 48,
   "metadata": {},
   "outputs": [
    {
     "name": "stdout",
     "output_type": "stream",
     "text": [
      "0 \tMSE: 24785244.0\n",
      "100 \tMSE: 162479.17\n",
      "200 \tMSE: 135569.19\n",
      "300 \tMSE: 118658.07\n",
      "400 \tMSE: 103834.74\n",
      "500 \tMSE: 88476.8\n",
      "600 \tMSE: 72379.63\n",
      "700 \tMSE: 52391.21\n",
      "800 \tMSE: 22083.32\n",
      "900 \tMSE: 7900.0034\n",
      "1000 \tMSE: 4900.7026\n",
      "1100 \tMSE: 4519.1836\n",
      "1200 \tMSE: 4589.7866\n",
      "1300 \tMSE: 4370.1577\n",
      "1400 \tMSE: 4328.567\n",
      "1500 \tMSE: 4289.648\n",
      "1600 \tMSE: 4261.3545\n",
      "1700 \tMSE: 4248.6084\n",
      "1800 \tMSE: 4211.8296\n",
      "1900 \tMSE: 4187.1313\n",
      "2000 \tMSE: 4165.568\n",
      "2100 \tMSE: 4488.8584\n",
      "2200 \tMSE: 4122.046\n",
      "2300 \tMSE: 4177.765\n",
      "2400 \tMSE: 4081.0474\n",
      "2500 \tMSE: 4073.9563\n",
      "2600 \tMSE: 4041.9753\n",
      "2700 \tMSE: 4024.663\n",
      "2800 \tMSE: 4332.3877\n",
      "2900 \tMSE: 3985.4734\n",
      "3000 \tMSE: 3966.5706\n",
      "3100 \tMSE: 3946.2266\n",
      "3200 \tMSE: 3930.176\n",
      "3300 \tMSE: 3930.7656\n",
      "3400 \tMSE: 3900.541\n",
      "3500 \tMSE: 3888.0808\n",
      "3600 \tMSE: 3874.906\n",
      "3700 \tMSE: 3864.5503\n",
      "3800 \tMSE: 3856.9062\n",
      "3900 \tMSE: 3845.5027\n",
      "4000 \tMSE: 3835.1008\n",
      "4100 \tMSE: 3850.4973\n",
      "4200 \tMSE: 4016.5808\n",
      "4300 \tMSE: 4542.6284\n",
      "4400 \tMSE: 3804.915\n",
      "4500 \tMSE: 3805.1323\n",
      "4600 \tMSE: 3817.47\n",
      "4700 \tMSE: 3836.9724\n",
      "4800 \tMSE: 3782.442\n",
      "4900 \tMSE: 3791.5146\n",
      "5000 \tMSE: 3784.3875\n",
      "5100 \tMSE: 3769.3423\n",
      "5200 \tMSE: 3765.9343\n",
      "5300 \tMSE: 3830.8557\n",
      "5400 \tMSE: 3762.8423\n",
      "5500 \tMSE: 3754.4617\n",
      "5600 \tMSE: 3745.831\n",
      "5700 \tMSE: 3747.6863\n",
      "5800 \tMSE: 3853.8992\n",
      "5900 \tMSE: 3785.4395\n",
      "6000 \tMSE: 3829.2869\n",
      "6100 \tMSE: 3765.1873\n",
      "6200 \tMSE: 3761.5002\n",
      "6300 \tMSE: 3787.4988\n",
      "6400 \tMSE: 3741.5522\n",
      "6500 \tMSE: 3744.0737\n",
      "6600 \tMSE: 3731.1328\n",
      "6700 \tMSE: 3801.351\n",
      "6800 \tMSE: 3725.909\n",
      "6900 \tMSE: 3715.7258\n",
      "7000 \tMSE: 3710.0125\n",
      "7100 \tMSE: 3754.6572\n",
      "7200 \tMSE: 3703.004\n",
      "7300 \tMSE: 3690.9785\n",
      "7400 \tMSE: 3680.4265\n",
      "7500 \tMSE: 3744.7634\n",
      "7600 \tMSE: 3702.8748\n",
      "7700 \tMSE: 3748.84\n",
      "7800 \tMSE: 4175.92\n",
      "7900 \tMSE: 3627.4797\n",
      "8000 \tMSE: 3615.0212\n",
      "8100 \tMSE: 3635.1868\n",
      "8200 \tMSE: 3774.754\n",
      "8300 \tMSE: 3652.7085\n",
      "8400 \tMSE: 3747.836\n",
      "8500 \tMSE: 3600.1213\n",
      "8600 \tMSE: 3616.208\n",
      "8700 \tMSE: 3589.3633\n",
      "8800 \tMSE: 3604.349\n",
      "8900 \tMSE: 3611.7815\n",
      "9000 \tMSE: 3570.4893\n",
      "9100 \tMSE: 3680.9814\n",
      "9200 \tMSE: 3607.2227\n",
      "9300 \tMSE: 3603.4321\n",
      "9400 \tMSE: 3551.2705\n",
      "9500 \tMSE: 3527.547\n",
      "9600 \tMSE: 3660.3552\n",
      "9700 \tMSE: 3523.1292\n",
      "9800 \tMSE: 3566.805\n",
      "9900 \tMSE: 3533.9438\n"
     ]
    }
   ],
   "source": [
    "epochs = 10000     #number of iterations or training cycles, includes both the FeedFoward and Backpropogation\n",
    "\n",
    "with tf.Session() as sess:\n",
    "    init.run()\n",
    "    for ep in range(epochs):\n",
    "        sess.run(training_op, feed_dict={X: x_batches, y: y_batches})\n",
    "        if ep % 100 == 0:\n",
    "            mse = loss.eval(feed_dict={X: x_batches, y: y_batches})\n",
    "            print(ep, \"\\tMSE:\", mse)\n",
    "    \n",
    "    y_pred = sess.run(outputs, feed_dict={X: X_test})\n",
    "    #print(y_pred)"
   ]
  },
  {
   "cell_type": "code",
   "execution_count": 46,
   "metadata": {},
   "outputs": [],
   "source": [
    "#### Actual vs predictions against test batch "
   ]
  },
  {
   "cell_type": "code",
   "execution_count": 23,
   "metadata": {},
   "outputs": [
    {
     "data": {
      "image/png": "[encoded data removed]",
      "text/plain": [
       "<Figure size 432x288 with 1 Axes>"
      ]
     },
     "metadata": {},
     "output_type": "display_data"
    }
   ],
   "source": [
    "plt.title(\"Forecast vs Actual\", fontsize=14)\n",
    "plt.plot(pd.Series(np.ravel(Y_test)), \"bo\", markersize=10, label=\"Actual Lvl\")\n",
    "#plt.plot(pd.Series(np.ravel(Y_test)), \"w*\", markersize=10)\n",
    "plt.plot(pd.Series(np.ravel(y_pred)), \"r.\", markersize=10, label=\"Forecast Lvl\")\n",
    "plt.legend(loc=\"upper left\")\n",
    "plt.xlabel(\"Time Periods\")\n",
    "\n",
    "plt.show()\n",
    "\n"
   ]
  },
  {
   "cell_type": "code",
   "execution_count": null,
   "metadata": {},
   "outputs": [],
   "source": []
  },
  {
   "cell_type": "code",
   "execution_count": null,
   "metadata": {},
   "outputs": [],
   "source": []
  }
 ],
 "metadata": {
  "anaconda-cloud": {},
  "kernelspec": {
   "display_name": "Python 3",
   "language": "python",
   "name": "python3"
  },
  "language_info": {
   "codemirror_mode": {
    "name": "ipython",
    "version": 3
   },
   "file_extension": ".py",
   "mimetype": "text/x-python",
   "name": "python",
   "nbconvert_exporter": "python",
   "pygments_lexer": "ipython3",
   "version": "3.6.4"
  }
 },
 "nbformat": 4,
 "nbformat_minor": 1
}
