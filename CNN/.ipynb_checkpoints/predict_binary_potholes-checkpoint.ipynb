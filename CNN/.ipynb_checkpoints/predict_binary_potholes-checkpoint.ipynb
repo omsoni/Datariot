{
 "cells": [
  {
   "cell_type": "code",
   "execution_count": 104,
   "metadata": {},
   "outputs": [],
   "source": [
    "import warnings\n",
    "warnings.simplefilter(action='ignore', category=FutureWarning)\n",
    "\n",
    "import tensorflow as tf\n",
    "import numpy as np\n",
    "import os,glob,cv2\n",
    "from os.path import dirname\n",
    "import sys,argparse\n",
    "from sklearn.utils import shuffle"
   ]
  },
  {
   "cell_type": "code",
   "execution_count": 71,
   "metadata": {},
   "outputs": [],
   "source": [
    "image_size=128\n",
    "num_channels=3\n",
    "label =[]"
   ]
  },
  {
   "cell_type": "code",
   "execution_count": 198,
   "metadata": {
    "scrolled": true
   },
   "outputs": [
    {
     "name": "stdout",
     "output_type": "stream",
     "text": [
      "['Positive', 'Negative']\n",
      "[]\n",
      "[]\n"
     ]
    }
   ],
   "source": [
    "files = []\n",
    "images = []\n",
    "labels = []\n",
    "testdata_path=\"./data/potholes/Test-Data/\"\n",
    "for (dirpath, dirnames, filenames) in os.walk(testdata_path):\n",
    "    print(dirnames)\n",
    "    for file in filenames:\n",
    "        imagefile = os.path.join(dirpath, file)\n",
    "        if (os.path.isdir(imagefile)):\n",
    "            continue\n",
    "        image = cv2.imread(imagefile)\n",
    "        image = cv2.resize(image, (image_size, image_size),0,0, cv2.INTER_LINEAR)\n",
    "        image = image.astype(np.float32)\n",
    "        image = np.multiply(image, 1.0 / 255.0)\n",
    "        images.append(image)\n",
    "        folder = os.path.basename(dirpath)\n",
    "        if (folder == 'Negative'):\n",
    "            label = [1,0]\n",
    "        if (folder == 'Positive'):\n",
    "            label =[0,1]\n",
    "        labels.append(np.asarray(label))\n",
    "images = np.array(images)\n",
    "labels = np.array(labels)\n",
    "\n"
   ]
  },
  {
   "cell_type": "code",
   "execution_count": 199,
   "metadata": {},
   "outputs": [],
   "source": [
    "images, labels = shuffle(images, labels)"
   ]
  },
  {
   "cell_type": "code",
   "execution_count": 200,
   "metadata": {},
   "outputs": [],
   "source": [
    "x_batch = images.reshape(len(labels), image_size,image_size,num_channels)\n",
    "x_labels = labels.reshape(len(labels), 2)"
   ]
  },
  {
   "cell_type": "code",
   "execution_count": 201,
   "metadata": {},
   "outputs": [
    {
     "name": "stdout",
     "output_type": "stream",
     "text": [
      "INFO:tensorflow:Restoring parameters from ./SavedModel/multiclass_potholes_model\n"
     ]
    }
   ],
   "source": [
    "## Let us restore the saved model \n",
    "sess = tf.Session()\n",
    "# Step-1: Recreate the network graph. At this step only graph is created.\n",
    "saver = tf.train.import_meta_graph('./SavedModel/multiclass_potholes_model.meta')\n",
    "# Step-2: Now let's load the weights saved using the restore method.\n",
    "saver.restore(sess, tf.train.latest_checkpoint('./SavedModel/'))"
   ]
  },
  {
   "cell_type": "code",
   "execution_count": 202,
   "metadata": {},
   "outputs": [],
   "source": [
    "# Accessing the default graph which we have restored\n",
    "graph = tf.get_default_graph()\n",
    "\n",
    "# Now, let's get hold of the op that we can be processed to get the output.\n",
    "# In the original network y_pred is the tensor that is the prediction of the network\n",
    "y_pred = graph.get_tensor_by_name(\"y_pred:0\")\n",
    "\n",
    "## Let's feed the images to the input placeholders\n",
    "x= graph.get_tensor_by_name(\"x:0\") \n",
    "y_true = graph.get_tensor_by_name(\"y_true:0\") \n",
    "y_test_images = np.zeros((1, 2)) "
   ]
  },
  {
   "cell_type": "code",
   "execution_count": 203,
   "metadata": {},
   "outputs": [
    {
     "name": "stdout",
     "output_type": "stream",
     "text": [
      "[[0.72672504 0.273275  ]\n",
      " [0.8884291  0.11157086]\n",
      " [0.7885622  0.21143782]\n",
      " [0.6801947  0.31980535]\n",
      " [0.73788875 0.26211125]\n",
      " [0.74007094 0.259929  ]\n",
      " [0.03844582 0.96155417]\n",
      " [0.031732   0.968268  ]\n",
      " [0.87903565 0.12096436]\n",
      " [0.77495337 0.22504662]\n",
      " [0.8266009  0.1733991 ]\n",
      " [0.85134405 0.148656  ]\n",
      " [0.57217085 0.42782918]\n",
      " [0.7791743  0.22082572]\n",
      " [0.02425201 0.975748  ]\n",
      " [0.8294899  0.17051007]\n",
      " [0.05045214 0.9495479 ]\n",
      " [0.03238932 0.9676107 ]\n",
      " [0.44099414 0.5590059 ]\n",
      " [0.79599714 0.20400283]\n",
      " [0.87539655 0.1246035 ]\n",
      " [0.01387409 0.9861259 ]\n",
      " [0.10763646 0.89236355]\n",
      " [0.84394395 0.15605603]\n",
      " [0.05858733 0.9414126 ]\n",
      " [0.02068738 0.97931266]\n",
      " [0.84623367 0.15376635]\n",
      " [0.4288847  0.57111526]\n",
      " [0.8039143  0.19608572]\n",
      " [0.01923133 0.98076874]\n",
      " [0.02397296 0.9760271 ]\n",
      " [0.02100084 0.97899914]\n",
      " [0.0472468  0.9527532 ]\n",
      " [0.02162216 0.9783779 ]\n",
      " [0.02989602 0.9701039 ]\n",
      " [0.01629788 0.98370206]\n",
      " [0.7898531  0.21014695]\n",
      " [0.7153577  0.2846423 ]\n",
      " [0.8284856  0.1715144 ]\n",
      " [0.78210807 0.21789193]\n",
      " [0.6340291  0.36597088]\n",
      " [0.8050268  0.19497319]\n",
      " [0.02747411 0.97252595]\n",
      " [0.02175088 0.9782491 ]\n",
      " [0.02068068 0.9793193 ]\n",
      " [0.89944017 0.10055986]\n",
      " [0.8576052  0.14239478]\n",
      " [0.8612334  0.13876657]\n",
      " [0.9220886  0.07791134]\n",
      " [0.01874715 0.98125285]\n",
      " [0.01194796 0.988052  ]\n",
      " [0.9509064  0.04909367]\n",
      " [0.40570968 0.59429026]\n",
      " [0.5390015  0.46099845]\n",
      " [0.02456634 0.9754336 ]\n",
      " [0.7965555  0.20344448]\n",
      " [0.02802388 0.97197616]\n",
      " [0.6658971  0.33410287]\n",
      " [0.03446278 0.96553725]\n",
      " [0.8639672  0.13603286]\n",
      " [0.6706586  0.32934135]\n",
      " [0.03259674 0.96740323]\n",
      " [0.49841335 0.5015867 ]\n",
      " [0.7563764  0.24362361]\n",
      " [0.03486803 0.965132  ]\n",
      " [0.8840004  0.11599962]\n",
      " [0.91704184 0.0829582 ]\n",
      " [0.6507202  0.34927982]\n",
      " [0.81082946 0.18917058]\n",
      " [0.04464867 0.95535135]\n",
      " [0.43905208 0.5609479 ]\n",
      " [0.75205183 0.24794817]\n",
      " [0.02121935 0.9787806 ]\n",
      " [0.87775886 0.12224112]\n",
      " [0.7374027  0.2625973 ]\n",
      " [0.02025138 0.97974867]\n",
      " [0.78182757 0.2181724 ]\n",
      " [0.8410411  0.15895893]\n",
      " [0.03990124 0.9600988 ]\n",
      " [0.77862924 0.22137077]\n",
      " [0.75086766 0.24913238]\n",
      " [0.03301591 0.96698403]\n",
      " [0.8759025  0.12409759]\n",
      " [0.03428876 0.96571124]\n",
      " [0.17537951 0.8246205 ]\n",
      " [0.9046658  0.09533421]\n",
      " [0.8594571  0.14054292]\n",
      " [0.4666878  0.53331226]\n",
      " [0.6628313  0.3371687 ]\n",
      " [0.84952873 0.15047127]\n",
      " [0.92606246 0.07393758]\n",
      " [0.03596954 0.9640304 ]\n",
      " [0.7386215  0.26137853]]\n"
     ]
    }
   ],
   "source": [
    "### Creating the feed_dict that is required to be fed to calculate y_pred \n",
    "feed_dict_testing = {x: x_batch, y_true: y_test_images}\n",
    "result=sess.run(y_pred, feed_dict=feed_dict_testing)\n",
    "# result is of this format [probabiliy_of_rose probability_of_sunflower]\n",
    "print(result)"
   ]
  },
  {
   "cell_type": "code",
   "execution_count": 204,
   "metadata": {},
   "outputs": [
    {
     "name": "stdout",
     "output_type": "stream",
     "text": [
      "[[0.72672504 0.27327499 1.         0.        ]\n",
      " [0.88842911 0.11157086 1.         0.        ]\n",
      " [0.78856218 0.21143782 1.         0.        ]\n",
      " [0.68019468 0.31980535 1.         0.        ]\n",
      " [0.73788875 0.26211125 1.         0.        ]\n",
      " [0.74007094 0.259929   1.         0.        ]\n",
      " [0.03844582 0.96155417 0.         1.        ]\n",
      " [0.031732   0.96826798 0.         1.        ]\n",
      " [0.87903565 0.12096436 1.         0.        ]\n",
      " [0.77495337 0.22504662 1.         0.        ]\n",
      " [0.82660091 0.17339911 1.         0.        ]\n",
      " [0.85134405 0.148656   1.         0.        ]\n",
      " [0.57217085 0.42782918 1.         0.        ]\n",
      " [0.77917433 0.22082572 1.         0.        ]\n",
      " [0.02425201 0.975748   0.         1.        ]\n",
      " [0.82948989 0.17051007 1.         0.        ]\n",
      " [0.05045214 0.94954789 0.         1.        ]\n",
      " [0.03238932 0.96761072 0.         1.        ]\n",
      " [0.44099414 0.55900592 1.         0.        ]\n",
      " [0.79599714 0.20400283 1.         0.        ]\n",
      " [0.87539655 0.1246035  1.         0.        ]\n",
      " [0.01387409 0.98612589 0.         1.        ]\n",
      " [0.10763646 0.89236355 0.         1.        ]\n",
      " [0.84394395 0.15605603 1.         0.        ]\n",
      " [0.05858733 0.94141263 0.         1.        ]\n",
      " [0.02068738 0.97931266 0.         1.        ]\n",
      " [0.84623367 0.15376635 1.         0.        ]\n",
      " [0.42888471 0.57111526 0.         1.        ]\n",
      " [0.80391431 0.19608572 1.         0.        ]\n",
      " [0.01923133 0.98076874 0.         1.        ]\n",
      " [0.02397296 0.97602707 0.         1.        ]\n",
      " [0.02100084 0.97899914 0.         1.        ]\n",
      " [0.0472468  0.95275319 0.         1.        ]\n",
      " [0.02162216 0.97837788 0.         1.        ]\n",
      " [0.02989602 0.97010392 0.         1.        ]\n",
      " [0.01629788 0.98370206 0.         1.        ]\n",
      " [0.7898531  0.21014695 1.         0.        ]\n",
      " [0.71535772 0.28464231 1.         0.        ]\n",
      " [0.82848561 0.17151441 1.         0.        ]\n",
      " [0.78210807 0.21789193 1.         0.        ]\n",
      " [0.63402909 0.36597088 1.         0.        ]\n",
      " [0.80502683 0.19497319 1.         0.        ]\n",
      " [0.02747411 0.97252595 0.         1.        ]\n",
      " [0.02175088 0.97824907 0.         1.        ]\n",
      " [0.02068068 0.97931927 0.         1.        ]\n",
      " [0.89944017 0.10055986 1.         0.        ]\n",
      " [0.85760522 0.14239478 1.         0.        ]\n",
      " [0.86123341 0.13876657 1.         0.        ]\n",
      " [0.92208862 0.07791134 1.         0.        ]\n",
      " [0.01874715 0.98125285 0.         1.        ]\n",
      " [0.01194796 0.98805201 0.         1.        ]\n",
      " [0.9509064  0.04909367 1.         0.        ]\n",
      " [0.40570968 0.59429026 1.         0.        ]\n",
      " [0.53900152 0.46099845 1.         0.        ]\n",
      " [0.02456634 0.97543359 0.         1.        ]\n",
      " [0.79655552 0.20344448 1.         0.        ]\n",
      " [0.02802388 0.97197616 0.         1.        ]\n",
      " [0.66589707 0.33410287 1.         0.        ]\n",
      " [0.03446278 0.96553725 0.         1.        ]\n",
      " [0.86396718 0.13603286 1.         0.        ]\n",
      " [0.67065859 0.32934135 1.         0.        ]\n",
      " [0.03259674 0.96740323 0.         1.        ]\n",
      " [0.49841335 0.50158668 1.         0.        ]\n",
      " [0.75637639 0.24362361 1.         0.        ]\n",
      " [0.03486803 0.965132   0.         1.        ]\n",
      " [0.88400042 0.11599962 1.         0.        ]\n",
      " [0.91704184 0.0829582  1.         0.        ]\n",
      " [0.65072018 0.34927982 1.         0.        ]\n",
      " [0.81082946 0.18917058 1.         0.        ]\n",
      " [0.04464867 0.95535135 0.         1.        ]\n",
      " [0.43905208 0.5609479  1.         0.        ]\n",
      " [0.75205183 0.24794817 1.         0.        ]\n",
      " [0.02121935 0.97878063 0.         1.        ]\n",
      " [0.87775886 0.12224112 1.         0.        ]\n",
      " [0.73740268 0.26259729 1.         0.        ]\n",
      " [0.02025138 0.97974867 0.         1.        ]\n",
      " [0.78182757 0.2181724  1.         0.        ]\n",
      " [0.84104109 0.15895893 1.         0.        ]\n",
      " [0.03990124 0.9600988  0.         1.        ]\n",
      " [0.77862924 0.22137077 1.         0.        ]\n",
      " [0.75086766 0.24913238 1.         0.        ]\n",
      " [0.03301591 0.96698403 0.         1.        ]\n",
      " [0.87590247 0.12409759 1.         0.        ]\n",
      " [0.03428876 0.96571124 0.         1.        ]\n",
      " [0.17537951 0.82462049 1.         0.        ]\n",
      " [0.90466583 0.09533421 1.         0.        ]\n",
      " [0.85945708 0.14054292 1.         0.        ]\n",
      " [0.4666878  0.53331226 0.         1.        ]\n",
      " [0.66283131 0.33716869 1.         0.        ]\n",
      " [0.84952873 0.15047127 1.         0.        ]\n",
      " [0.92606246 0.07393758 1.         0.        ]\n",
      " [0.03596954 0.96403039 0.         1.        ]\n",
      " [0.73862147 0.26137853 1.         0.        ]]\n"
     ]
    }
   ],
   "source": [
    "print(np.c_[result, labels])"
   ]
  },
  {
   "cell_type": "code",
   "execution_count": 212,
   "metadata": {},
   "outputs": [
    {
     "name": "stdout",
     "output_type": "stream",
     "text": [
      "tf auc: [0.0, 0.98525846]\n"
     ]
    }
   ],
   "source": [
    "auc, update_op = tf.metrics.auc(\n",
    "    labels,\n",
    "    result,\n",
    "    weights=None,\n",
    "    num_thresholds=10,\n",
    "    metrics_collections=None,\n",
    "    updates_collections=None,\n",
    "    curve='ROC',\n",
    "    name=None,\n",
    "    summation_method='trapezoidal'\n",
    ")\n",
    "\n",
    "with tf.Session() as sess:\n",
    "    sess.run(tf.local_variables_initializer())\n",
    "    print(\"tf auc: {}\".format(sess.run([auc, update_op])))"
   ]
  },
  {
   "cell_type": "code",
   "execution_count": 213,
   "metadata": {},
   "outputs": [
    {
     "name": "stdout",
     "output_type": "stream",
     "text": [
      "sklearn auc: 0.9970443349753695\n"
     ]
    }
   ],
   "source": [
    "import numpy as np\n",
    "from sklearn.metrics import roc_auc_score\n",
    "y_true = np.array([0, 0, 1, 1])\n",
    "y_scores = np.array([0.1, 0.4, 0.35, 0.8])\n",
    "print(\"sklearn auc: {}\".format(roc_auc_score(labels, result)))"
   ]
  },
  {
   "cell_type": "code",
   "execution_count": null,
   "metadata": {},
   "outputs": [],
   "source": []
  }
 ],
 "metadata": {
  "kernelspec": {
   "display_name": "Python 3",
   "language": "python",
   "name": "python3"
  },
  "language_info": {
   "codemirror_mode": {
    "name": "ipython",
    "version": 3
   },
   "file_extension": ".py",
   "mimetype": "text/x-python",
   "name": "python",
   "nbconvert_exporter": "python",
   "pygments_lexer": "ipython3",
   "version": "3.6.4"
  }
 },
 "nbformat": 4,
 "nbformat_minor": 2
}
