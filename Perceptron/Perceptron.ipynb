{
 "cells": [
  {
   "cell_type": "code",
   "execution_count": 106,
   "metadata": {},
   "outputs": [],
   "source": [
    "import pandas as pd\n",
    "import numpy as np\n",
    "import os\n",
    "import matplotlib\n",
    "import matplotlib.pyplot as plt\n",
    "import random\n",
    "import sklearn.preprocessing"
   ]
  },
  {
   "cell_type": "code",
   "execution_count": 107,
   "metadata": {},
   "outputs": [],
   "source": [
    "AutoData = pd.read_csv(\"auto-mpg-data.csv\",  header=0)"
   ]
  },
  {
   "cell_type": "code",
   "execution_count": 108,
   "metadata": {},
   "outputs": [
    {
     "data": {
      "text/plain": [
       "<matplotlib.axes._subplots.AxesSubplot at 0x1a1e5fca20>"
      ]
     },
     "execution_count": 108,
     "metadata": {},
     "output_type": "execute_result"
    },
    {
     "data": {
      "image/png": "[encoded data removed]",
      "text/plain": [
       "<Figure size 432x288 with 2 Axes>"
      ]
     },
     "metadata": {},
     "output_type": "display_data"
    }
   ],
   "source": [
    "import seaborn as sns\n",
    "corr = AutoData.corr()\n",
    "sns.heatmap(corr, \n",
    "        xticklabels=corr.columns,\n",
    "        yticklabels=corr.columns)"
   ]
  },
  {
   "cell_type": "code",
   "execution_count": 109,
   "metadata": {},
   "outputs": [
    {
     "name": "stderr",
     "output_type": "stream",
     "text": [
      "/Users/omsoni/anaconda/lib/python3.6/site-packages/sklearn/utils/validation.py:475: DataConversionWarning: Data with input dtype int64 was converted to float64 by MinMaxScaler.\n",
      "  warnings.warn(msg, DataConversionWarning)\n"
     ]
    }
   ],
   "source": [
    "# function for min-max normalization of stock\n",
    "def normalize(x_data, y_data):\n",
    "    min_max_scaler = sklearn.preprocessing.MinMaxScaler()\n",
    "    x_data['cylinders'] = min_max_scaler.fit_transform(x_data.cylinders.values.reshape(-1,1))\n",
    "    x_data['modelyear'] = min_max_scaler.fit_transform(x_data.modelyear.values.reshape(-1,1))\n",
    "    y_data['mpg'] = min_max_scaler.fit_transform(y_data.mpg.values.reshape(-1,1))\n",
    "    return x_data, y_data, min_max_scaler\n",
    "x_data = AutoData.loc[:,['cylinders','modelyear']]\n",
    "y_data = AutoData.loc[:,['mpg']]\n",
    "true_cls = AutoData.loc[:,['GreenCar']]\n",
    "x_data, y_data, scaler = normalize(x_data, y_data)"
   ]
  },
  {
   "cell_type": "code",
   "execution_count": 110,
   "metadata": {},
   "outputs": [],
   "source": [
    "from sklearn.model_selection import train_test_split\n",
    "x_tr, x_te, y_tr, y_te = train_test_split(x_data, true_cls, test_size=0.20, random_state=33)\n",
    "#x_tr, x_te, y_tr, y_te = train_test_split(x_data, y_data, test_size=0.20, random_state=33)"
   ]
  },
  {
   "cell_type": "code",
   "execution_count": 111,
   "metadata": {},
   "outputs": [],
   "source": [
    "# Make a prediction with weights\n",
    "def predictMpg(_x, bias, weights):\n",
    "    mpg = bias #Bias\n",
    "    #print(\"obs{0}\".format(_x))\n",
    "    for i in range(len(_x)-1):\n",
    "        mpg +=  weights[i] * _x[i]\n",
    "    return mpg"
   ]
  },
  {
   "cell_type": "code",
   "execution_count": 114,
   "metadata": {},
   "outputs": [
    {
     "name": "stdout",
     "output_type": "stream",
     "text": [
      ">epoch=0, lrate=0.010, error=0.365, obs=318.000 actualsse=4370.434\n",
      ">epoch=1, lrate=0.010, error=0.315, obs=318.000 actualsse=3776.226\n",
      ">epoch=2, lrate=0.010, error=0.308, obs=318.000 actualsse=3693.197\n",
      ">epoch=3, lrate=0.010, error=0.309, obs=318.000 actualsse=3702.902\n",
      ">epoch=4, lrate=0.010, error=0.309, obs=318.000 actualsse=3700.891\n",
      ">epoch=5, lrate=0.010, error=0.309, obs=318.000 actualsse=3701.127\n",
      ">epoch=6, lrate=0.010, error=0.309, obs=318.000 actualsse=3701.121\n",
      ">epoch=7, lrate=0.010, error=0.309, obs=318.000 actualsse=3701.113\n",
      ">epoch=8, lrate=0.010, error=0.309, obs=318.000 actualsse=3701.116\n",
      ">epoch=9, lrate=0.010, error=0.309, obs=318.000 actualsse=3701.116\n",
      ">epoch=10, lrate=0.010, error=0.309, obs=318.000 actualsse=3701.116\n",
      ">epoch=11, lrate=0.010, error=0.309, obs=318.000 actualsse=3701.116\n",
      ">epoch=12, lrate=0.010, error=0.309, obs=318.000 actualsse=3701.116\n",
      ">epoch=13, lrate=0.010, error=0.309, obs=318.000 actualsse=3701.116\n",
      ">epoch=14, lrate=0.010, error=0.309, obs=318.000 actualsse=3701.116\n",
      ">epoch=15, lrate=0.010, error=0.309, obs=318.000 actualsse=3701.116\n",
      ">epoch=16, lrate=0.010, error=0.309, obs=318.000 actualsse=3701.116\n",
      ">epoch=17, lrate=0.010, error=0.309, obs=318.000 actualsse=3701.116\n",
      ">epoch=18, lrate=0.010, error=0.309, obs=318.000 actualsse=3701.116\n",
      ">epoch=19, lrate=0.010, error=0.309, obs=318.000 actualsse=3701.116\n",
      ">epoch=20, lrate=0.010, error=0.309, obs=318.000 actualsse=3701.116\n",
      ">epoch=21, lrate=0.010, error=0.309, obs=318.000 actualsse=3701.116\n",
      ">epoch=22, lrate=0.010, error=0.309, obs=318.000 actualsse=3701.116\n",
      ">epoch=23, lrate=0.010, error=0.309, obs=318.000 actualsse=3701.116\n",
      ">epoch=24, lrate=0.010, error=0.309, obs=318.000 actualsse=3701.116\n",
      ">epoch=25, lrate=0.010, error=0.309, obs=318.000 actualsse=3701.116\n",
      ">epoch=26, lrate=0.010, error=0.309, obs=318.000 actualsse=3701.116\n",
      ">epoch=27, lrate=0.010, error=0.309, obs=318.000 actualsse=3701.116\n",
      ">epoch=28, lrate=0.010, error=0.309, obs=318.000 actualsse=3701.116\n",
      ">epoch=29, lrate=0.010, error=0.309, obs=318.000 actualsse=3701.116\n",
      ">epoch=30, lrate=0.010, error=0.309, obs=318.000 actualsse=3701.116\n",
      ">epoch=31, lrate=0.010, error=0.309, obs=318.000 actualsse=3701.116\n",
      ">epoch=32, lrate=0.010, error=0.309, obs=318.000 actualsse=3701.116\n",
      ">epoch=33, lrate=0.010, error=0.309, obs=318.000 actualsse=3701.116\n",
      ">epoch=34, lrate=0.010, error=0.309, obs=318.000 actualsse=3701.116\n",
      ">epoch=35, lrate=0.010, error=0.309, obs=318.000 actualsse=3701.116\n",
      ">epoch=36, lrate=0.010, error=0.309, obs=318.000 actualsse=3701.116\n",
      ">epoch=37, lrate=0.010, error=0.309, obs=318.000 actualsse=3701.116\n",
      ">epoch=38, lrate=0.010, error=0.309, obs=318.000 actualsse=3701.116\n",
      ">epoch=39, lrate=0.010, error=0.309, obs=318.000 actualsse=3701.116\n",
      ">epoch=40, lrate=0.010, error=0.309, obs=318.000 actualsse=3701.116\n",
      ">epoch=41, lrate=0.010, error=0.309, obs=318.000 actualsse=3701.116\n",
      ">epoch=42, lrate=0.010, error=0.309, obs=318.000 actualsse=3701.116\n",
      ">epoch=43, lrate=0.010, error=0.309, obs=318.000 actualsse=3701.116\n",
      ">epoch=44, lrate=0.010, error=0.309, obs=318.000 actualsse=3701.116\n",
      ">epoch=45, lrate=0.010, error=0.309, obs=318.000 actualsse=3701.116\n",
      ">epoch=46, lrate=0.010, error=0.309, obs=318.000 actualsse=3701.116\n",
      ">epoch=47, lrate=0.010, error=0.309, obs=318.000 actualsse=3701.116\n",
      ">epoch=48, lrate=0.010, error=0.309, obs=318.000 actualsse=3701.116\n",
      ">epoch=49, lrate=0.010, error=0.309, obs=318.000 actualsse=3701.116\n",
      ">epoch=50, lrate=0.010, error=0.309, obs=318.000 actualsse=3701.116\n",
      ">epoch=51, lrate=0.010, error=0.309, obs=318.000 actualsse=3701.116\n",
      ">epoch=52, lrate=0.010, error=0.309, obs=318.000 actualsse=3701.116\n",
      ">epoch=53, lrate=0.010, error=0.309, obs=318.000 actualsse=3701.116\n",
      ">epoch=54, lrate=0.010, error=0.309, obs=318.000 actualsse=3701.116\n",
      ">epoch=55, lrate=0.010, error=0.309, obs=318.000 actualsse=3701.116\n",
      ">epoch=56, lrate=0.010, error=0.309, obs=318.000 actualsse=3701.116\n",
      ">epoch=57, lrate=0.010, error=0.309, obs=318.000 actualsse=3701.116\n",
      ">epoch=58, lrate=0.010, error=0.309, obs=318.000 actualsse=3701.116\n",
      ">epoch=59, lrate=0.010, error=0.309, obs=318.000 actualsse=3701.116\n",
      ">epoch=60, lrate=0.010, error=0.309, obs=318.000 actualsse=3701.116\n",
      ">epoch=61, lrate=0.010, error=0.309, obs=318.000 actualsse=3701.116\n",
      ">epoch=62, lrate=0.010, error=0.309, obs=318.000 actualsse=3701.116\n",
      ">epoch=63, lrate=0.010, error=0.309, obs=318.000 actualsse=3701.116\n",
      ">epoch=64, lrate=0.010, error=0.309, obs=318.000 actualsse=3701.116\n",
      ">epoch=65, lrate=0.010, error=0.309, obs=318.000 actualsse=3701.116\n",
      ">epoch=66, lrate=0.010, error=0.309, obs=318.000 actualsse=3701.116\n",
      ">epoch=67, lrate=0.010, error=0.309, obs=318.000 actualsse=3701.116\n",
      ">epoch=68, lrate=0.010, error=0.309, obs=318.000 actualsse=3701.116\n",
      ">epoch=69, lrate=0.010, error=0.309, obs=318.000 actualsse=3701.116\n",
      ">epoch=70, lrate=0.010, error=0.309, obs=318.000 actualsse=3701.116\n",
      ">epoch=71, lrate=0.010, error=0.309, obs=318.000 actualsse=3701.116\n",
      ">epoch=72, lrate=0.010, error=0.309, obs=318.000 actualsse=3701.116\n",
      ">epoch=73, lrate=0.010, error=0.309, obs=318.000 actualsse=3701.116\n",
      ">epoch=74, lrate=0.010, error=0.309, obs=318.000 actualsse=3701.116\n",
      ">epoch=75, lrate=0.010, error=0.309, obs=318.000 actualsse=3701.116\n",
      ">epoch=76, lrate=0.010, error=0.309, obs=318.000 actualsse=3701.116\n",
      ">epoch=77, lrate=0.010, error=0.309, obs=318.000 actualsse=3701.116\n",
      ">epoch=78, lrate=0.010, error=0.309, obs=318.000 actualsse=3701.116\n",
      ">epoch=79, lrate=0.010, error=0.309, obs=318.000 actualsse=3701.116\n",
      ">epoch=80, lrate=0.010, error=0.309, obs=318.000 actualsse=3701.116\n",
      ">epoch=81, lrate=0.010, error=0.309, obs=318.000 actualsse=3701.116\n",
      ">epoch=82, lrate=0.010, error=0.309, obs=318.000 actualsse=3701.116\n",
      ">epoch=83, lrate=0.010, error=0.309, obs=318.000 actualsse=3701.116\n",
      ">epoch=84, lrate=0.010, error=0.309, obs=318.000 actualsse=3701.116\n",
      ">epoch=85, lrate=0.010, error=0.309, obs=318.000 actualsse=3701.116\n",
      ">epoch=86, lrate=0.010, error=0.309, obs=318.000 actualsse=3701.116\n",
      ">epoch=87, lrate=0.010, error=0.309, obs=318.000 actualsse=3701.116\n",
      ">epoch=88, lrate=0.010, error=0.309, obs=318.000 actualsse=3701.116\n",
      ">epoch=89, lrate=0.010, error=0.309, obs=318.000 actualsse=3701.116\n",
      ">epoch=90, lrate=0.010, error=0.309, obs=318.000 actualsse=3701.116\n",
      ">epoch=91, lrate=0.010, error=0.309, obs=318.000 actualsse=3701.116\n",
      ">epoch=92, lrate=0.010, error=0.309, obs=318.000 actualsse=3701.116\n",
      ">epoch=93, lrate=0.010, error=0.309, obs=318.000 actualsse=3701.116\n",
      ">epoch=94, lrate=0.010, error=0.309, obs=318.000 actualsse=3701.116\n",
      ">epoch=95, lrate=0.010, error=0.309, obs=318.000 actualsse=3701.116\n",
      ">epoch=96, lrate=0.010, error=0.309, obs=318.000 actualsse=3701.116\n",
      ">epoch=97, lrate=0.010, error=0.309, obs=318.000 actualsse=3701.116\n",
      ">epoch=98, lrate=0.010, error=0.309, obs=318.000 actualsse=3701.116\n",
      ">epoch=99, lrate=0.010, error=0.309, obs=318.000 actualsse=3701.116\n"
     ]
    }
   ],
   "source": [
    "# Estimate Perceptron weights using stochastic gradient descent\n",
    "def train(x,y, l_rate, n_epoch, scaler):\n",
    "    weights = [0.0 for i in range(len(x[0]))]\n",
    "    bias = 1.0 ;\n",
    "    for epoch in range(n_epoch):\n",
    "        sum_error = 0.0\n",
    "        index=0\n",
    "        for _x in x:\n",
    "            #print(\"x={0},y={1}\".format(_x,y[index]))\n",
    "            prediction = predictMpg(_x, bias, weights)\n",
    "            error = y[index] - prediction\n",
    "            #print(\"error:\", error)\n",
    "            sum_error += error**2\n",
    "            bias = bias + l_rate * error\n",
    "            for i in range(len(_x)):\n",
    "                weights[i] = weights[i] + l_rate * error * _x[i]\n",
    "            #print(\"weights=\", weights)\n",
    "            index+=1\n",
    "        print('>epoch=%d, lrate=%.3f, error=%.3f, obs=%.3f actualsse=%.3f' \n",
    "              % (epoch, l_rate, sum_error/len(x), len(x),scaler.inverse_transform(sum_error.reshape(-1,1))))\n",
    "    return bias, weights\n",
    "\n",
    "bias, weights = train(x_tr.values,y_tr.values, 0.01, 100,scaler)"
   ]
  },
  {
   "cell_type": "code",
   "execution_count": 113,
   "metadata": {},
   "outputs": [],
   "source": [
    "# Make a prediction with weights\n",
    "def predictClass(_x, bias,weights):\n",
    "    activation = bias #Bias\n",
    "    for i in range(len(_x)):\n",
    "        activation += weights[i] * _x[i]\n",
    "    return 1 if activation >= 0 else 0  # Threashold"
   ]
  },
  {
   "cell_type": "code",
   "execution_count": null,
   "metadata": {},
   "outputs": [],
   "source": []
  }
 ],
 "metadata": {
  "kernelspec": {
   "display_name": "Python [conda env:anaconda]",
   "language": "python",
   "name": "conda-env-anaconda-py"
  },
  "language_info": {
   "codemirror_mode": {
    "name": "ipython",
    "version": 3
   },
   "file_extension": ".py",
   "mimetype": "text/x-python",
   "name": "python",
   "nbconvert_exporter": "python",
   "pygments_lexer": "ipython3",
   "version": "3.6.5"
  }
 },
 "nbformat": 4,
 "nbformat_minor": 2
}
