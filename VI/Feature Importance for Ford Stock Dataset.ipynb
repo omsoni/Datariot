{
 "cells": [
  {
   "cell_type": "code",
   "execution_count": 7,
   "metadata": {},
   "outputs": [],
   "source": [
    "import numpy as np\n",
    "import pandas as pd\n",
    "from sklearn.ensemble import RandomForestRegressor\n",
    "from sklearn import datasets\n",
    "from sklearn.model_selection import train_test_split\n",
    "from sklearn.feature_selection import SelectFromModel\n",
    "from sklearn.metrics import accuracy_score"
   ]
  },
  {
   "cell_type": "code",
   "execution_count": 8,
   "metadata": {},
   "outputs": [],
   "source": [
    "from pandas import Series\n",
    "def parser(x):\n",
    "    return pd.to_datetime(x, format='%Y-%m-%d')\n",
    "FSdata = pd.read_csv('../RNN/F.csv',  header=0 , parse_dates=[0], index_col=0, squeeze=True, date_parser=parser)\n",
    "FOpen = FSdata.Open"
   ]
  },
  {
   "cell_type": "code",
   "execution_count": 26,
   "metadata": {},
   "outputs": [
    {
     "name": "stdout",
     "output_type": "stream",
     "text": [
      "('Open', 0.9969249751364093)\n",
      "('High', 0.00043229820931389923)\n",
      "('Low', 0.0005889204283981434)\n",
      "('Close', 6.228135479131602e-05)\n",
      "('Volume', 4.4095984502431955e-07)\n",
      "('Ex-Dividend', 2.4084115207009333e-10)\n",
      "('Split Ratio', 0.0)\n",
      "('Adj. Open', 0.0013877430333162374)\n",
      "('Adj. High', 0.00037894450495348764)\n",
      "('Adj. Low', 9.270973129361128e-05)\n",
      "('Adj. Close', 0.00013129527118844637)\n",
      "('Adj. Volume', 3.911296491430366e-07)\n"
     ]
    }
   ],
   "source": [
    "# Create a random forest classifier\n",
    "regr = RandomForestRegressor(n_estimators=500,  random_state=0 , n_jobs=2)\n",
    "\n",
    "\n",
    "# Train the classifier\n",
    "regr.fit(FSdata, FOpen)\n",
    "x_cols = list(FSdata)\n",
    "\n",
    "# Print the name and gini importance of each feature\n",
    "for feature in zip(x_cols, regr.feature_importances_):\n",
    "    print(feature)"
   ]
  },
  {
   "cell_type": "code",
   "execution_count": 27,
   "metadata": {},
   "outputs": [
    {
     "name": "stdout",
     "output_type": "stream",
     "text": [
      "Open           9.969250e-01\n",
      "Adj. Open      1.387743e-03\n",
      "Low            5.889204e-04\n",
      "High           4.322982e-04\n",
      "Adj. High      3.789445e-04\n",
      "Adj. Close     1.312953e-04\n",
      "Adj. Low       9.270973e-05\n",
      "Close          6.228135e-05\n",
      "Volume         4.409598e-07\n",
      "Adj. Volume    3.911296e-07\n",
      "Ex-Dividend    2.408412e-10\n",
      "Split Ratio    0.000000e+00\n",
      "dtype: float64\n"
     ]
    }
   ],
   "source": [
    "import pandas as pd\n",
    "important_features = pd.Series(data=regr.feature_importances_,index=x_cols)\n",
    "important_features.sort_values(ascending=False,inplace=True)\n",
    "print(important_features)"
   ]
  },
  {
   "cell_type": "code",
   "execution_count": null,
   "metadata": {},
   "outputs": [],
   "source": []
  }
 ],
 "metadata": {
  "kernelspec": {
   "display_name": "Python 3",
   "language": "python",
   "name": "python3"
  },
  "language_info": {
   "codemirror_mode": {
    "name": "ipython",
    "version": 3
   },
   "file_extension": ".py",
   "mimetype": "text/x-python",
   "name": "python",
   "nbconvert_exporter": "python",
   "pygments_lexer": "ipython3",
   "version": "3.6.4"
  }
 },
 "nbformat": 4,
 "nbformat_minor": 2
}
